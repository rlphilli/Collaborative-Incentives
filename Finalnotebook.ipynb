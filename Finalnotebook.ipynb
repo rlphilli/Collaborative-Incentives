{
  "nbformat": 4,
  "nbformat_minor": 0,
  "metadata": {
    "kernelspec": {
      "display_name": "Python 3",
      "language": "python",
      "name": "python3"
    },
    "language_info": {
      "codemirror_mode": {
        "name": "ipython",
        "version": 3
      },
      "file_extension": ".py",
      "mimetype": "text/x-python",
      "name": "python",
      "nbconvert_exporter": "python",
      "pygments_lexer": "ipython3",
      "version": "3.8.5"
    },
    "colab": {
      "name": "Finalnotebook.ipynb",
      "provenance": [],
      "include_colab_link": true
    }
  },
  "cells": [
    {
      "cell_type": "markdown",
      "metadata": {
        "id": "view-in-github",
        "colab_type": "text"
      },
      "source": [
        "<a href=\"https://colab.research.google.com/github/rlphilli/Collaborative-Incentives/blob/main/Finalnotebook.ipynb\" target=\"_parent\"><img src=\"https://colab.research.google.com/assets/colab-badge.svg\" alt=\"Open In Colab\"/></a>"
      ]
    },
    {
      "cell_type": "code",
      "metadata": {
        "colab": {
          "base_uri": "https://localhost:8080/"
        },
        "id": "VdDApQ1y7z-F",
        "outputId": "71ba6d6e-5933-48bb-c9f7-3b0450ba4b17"
      },
      "source": [
        "! pip install hypernetx\n",
        "! pip install cvxpy"
      ],
      "execution_count": 8,
      "outputs": [
        {
          "output_type": "stream",
          "text": [
            "Requirement already satisfied: hypernetx in /usr/local/lib/python3.7/dist-packages (1.0.2)\n",
            "Requirement already satisfied: networkx<3.0,>=2.2 in /usr/local/lib/python3.7/dist-packages (from hypernetx) (2.5.1)\n",
            "Requirement already satisfied: matplotlib>3.0 in /usr/local/lib/python3.7/dist-packages (from hypernetx) (3.2.2)\n",
            "Requirement already satisfied: scipy<2.0,>=1.1.0 in /usr/local/lib/python3.7/dist-packages (from hypernetx) (1.4.1)\n",
            "Requirement already satisfied: scikit-learn>=0.20.0 in /usr/local/lib/python3.7/dist-packages (from hypernetx) (0.22.2.post1)\n",
            "Requirement already satisfied: pandas>=0.23 in /usr/local/lib/python3.7/dist-packages (from hypernetx) (1.1.5)\n",
            "Requirement already satisfied: numpy<2.0,>=1.15.0 in /usr/local/lib/python3.7/dist-packages (from hypernetx) (1.19.5)\n",
            "Requirement already satisfied: decorator<5,>=4.3 in /usr/local/lib/python3.7/dist-packages (from networkx<3.0,>=2.2->hypernetx) (4.4.2)\n",
            "Requirement already satisfied: pyparsing!=2.0.4,!=2.1.2,!=2.1.6,>=2.0.1 in /usr/local/lib/python3.7/dist-packages (from matplotlib>3.0->hypernetx) (2.4.7)\n",
            "Requirement already satisfied: cycler>=0.10 in /usr/local/lib/python3.7/dist-packages (from matplotlib>3.0->hypernetx) (0.10.0)\n",
            "Requirement already satisfied: kiwisolver>=1.0.1 in /usr/local/lib/python3.7/dist-packages (from matplotlib>3.0->hypernetx) (1.3.1)\n",
            "Requirement already satisfied: python-dateutil>=2.1 in /usr/local/lib/python3.7/dist-packages (from matplotlib>3.0->hypernetx) (2.8.1)\n",
            "Requirement already satisfied: joblib>=0.11 in /usr/local/lib/python3.7/dist-packages (from scikit-learn>=0.20.0->hypernetx) (1.0.1)\n",
            "Requirement already satisfied: pytz>=2017.2 in /usr/local/lib/python3.7/dist-packages (from pandas>=0.23->hypernetx) (2018.9)\n",
            "Requirement already satisfied: six in /usr/local/lib/python3.7/dist-packages (from cycler>=0.10->matplotlib>3.0->hypernetx) (1.15.0)\n",
            "Requirement already satisfied: cvxpy in /usr/local/lib/python3.7/dist-packages (1.0.31)\n",
            "Requirement already satisfied: numpy>=1.15 in /usr/local/lib/python3.7/dist-packages (from cvxpy) (1.19.5)\n",
            "Requirement already satisfied: scs>=1.1.3 in /usr/local/lib/python3.7/dist-packages (from cvxpy) (2.1.4)\n",
            "Requirement already satisfied: osqp>=0.4.1 in /usr/local/lib/python3.7/dist-packages (from cvxpy) (0.6.2.post0)\n",
            "Requirement already satisfied: scipy>=1.1.0 in /usr/local/lib/python3.7/dist-packages (from cvxpy) (1.4.1)\n",
            "Requirement already satisfied: ecos>=2 in /usr/local/lib/python3.7/dist-packages (from cvxpy) (2.0.7.post1)\n",
            "Requirement already satisfied: multiprocess in /usr/local/lib/python3.7/dist-packages (from cvxpy) (0.70.12.2)\n",
            "Requirement already satisfied: qdldl in /usr/local/lib/python3.7/dist-packages (from osqp>=0.4.1->cvxpy) (0.1.5.post0)\n",
            "Requirement already satisfied: dill>=0.3.4 in /usr/local/lib/python3.7/dist-packages (from multiprocess->cvxpy) (0.3.4)\n"
          ],
          "name": "stdout"
        }
      ]
    },
    {
      "cell_type": "code",
      "metadata": {
        "id": "2fiwlsQPgZRt",
        "colab": {
          "base_uri": "https://localhost:8080/",
          "height": 477
        },
        "outputId": "3bd386e2-e1a6-4e0d-bebd-11a983bc6d8f"
      },
      "source": [
        "import copy\n",
        "from collections import Counter\n",
        "import random\n",
        "\n",
        "import cvxpy as cvx\n",
        "import cvxpy as cp \n",
        "import numpy as np\n",
        "import matplotlib.pyplot as plt\n",
        "import networkx as nx # For visualization\n",
        "import hypernetx as hnx # For visualization\n",
        "from scipy.stats import gmean\n",
        "import pandas as pd\n",
        "import seaborn as sns"
      ],
      "execution_count": 9,
      "outputs": [
        {
          "output_type": "error",
          "ename": "ModuleNotFoundError",
          "evalue": "ignored",
          "traceback": [
            "\u001b[0;31m---------------------------------------------------------------------------\u001b[0m",
            "\u001b[0;31mModuleNotFoundError\u001b[0m                       Traceback (most recent call last)",
            "\u001b[0;32m<ipython-input-9-5ab6fd6cc010>\u001b[0m in \u001b[0;36m<module>\u001b[0;34m()\u001b[0m\n\u001b[1;32m      8\u001b[0m \u001b[0;32mimport\u001b[0m \u001b[0mmatplotlib\u001b[0m\u001b[0;34m.\u001b[0m\u001b[0mpyplot\u001b[0m \u001b[0;32mas\u001b[0m \u001b[0mplt\u001b[0m\u001b[0;34m\u001b[0m\u001b[0;34m\u001b[0m\u001b[0m\n\u001b[1;32m      9\u001b[0m \u001b[0;32mimport\u001b[0m \u001b[0mnetworkx\u001b[0m \u001b[0;32mas\u001b[0m \u001b[0mnx\u001b[0m \u001b[0;31m# For visualization\u001b[0m\u001b[0;34m\u001b[0m\u001b[0;34m\u001b[0m\u001b[0m\n\u001b[0;32m---> 10\u001b[0;31m \u001b[0;32mimport\u001b[0m \u001b[0mhypernetx\u001b[0m \u001b[0;32mas\u001b[0m \u001b[0mhnx\u001b[0m \u001b[0;31m# For visualization\u001b[0m\u001b[0;34m\u001b[0m\u001b[0;34m\u001b[0m\u001b[0m\n\u001b[0m\u001b[1;32m     11\u001b[0m \u001b[0;32mfrom\u001b[0m \u001b[0mscipy\u001b[0m\u001b[0;34m.\u001b[0m\u001b[0mstats\u001b[0m \u001b[0;32mimport\u001b[0m \u001b[0mgmean\u001b[0m\u001b[0;34m\u001b[0m\u001b[0;34m\u001b[0m\u001b[0m\n\u001b[1;32m     12\u001b[0m \u001b[0;32mimport\u001b[0m \u001b[0mpandas\u001b[0m \u001b[0;32mas\u001b[0m \u001b[0mpd\u001b[0m\u001b[0;34m\u001b[0m\u001b[0;34m\u001b[0m\u001b[0m\n",
            "\u001b[0;32m/usr/local/lib/python3.7/dist-packages/hypernetx/__init__.py\u001b[0m in \u001b[0;36m<module>\u001b[0;34m()\u001b[0m\n\u001b[1;32m      5\u001b[0m )\n\u001b[1;32m      6\u001b[0m \u001b[0;32mfrom\u001b[0m \u001b[0mhypernetx\u001b[0m\u001b[0;34m.\u001b[0m\u001b[0mread_write\u001b[0m \u001b[0;32mimport\u001b[0m \u001b[0mto_pickle\u001b[0m\u001b[0;34m,\u001b[0m \u001b[0mload_from_pickle\u001b[0m\u001b[0;34m\u001b[0m\u001b[0;34m\u001b[0m\u001b[0m\n\u001b[0;32m----> 7\u001b[0;31m \u001b[0;32mfrom\u001b[0m \u001b[0mhypernetx\u001b[0m\u001b[0;34m.\u001b[0m\u001b[0mclasses\u001b[0m \u001b[0;32mimport\u001b[0m \u001b[0;34m*\u001b[0m\u001b[0;34m\u001b[0m\u001b[0;34m\u001b[0m\u001b[0m\n\u001b[0m\u001b[1;32m      8\u001b[0m \u001b[0;32mfrom\u001b[0m \u001b[0mhypernetx\u001b[0m\u001b[0;34m.\u001b[0m\u001b[0mreports\u001b[0m \u001b[0;32mimport\u001b[0m \u001b[0;34m*\u001b[0m\u001b[0;34m\u001b[0m\u001b[0;34m\u001b[0m\u001b[0m\n\u001b[1;32m      9\u001b[0m \u001b[0;32mfrom\u001b[0m \u001b[0mhypernetx\u001b[0m\u001b[0;34m.\u001b[0m\u001b[0mdrawing\u001b[0m \u001b[0;32mimport\u001b[0m \u001b[0;34m*\u001b[0m\u001b[0;34m\u001b[0m\u001b[0;34m\u001b[0m\u001b[0m\n",
            "\u001b[0;32m/usr/local/lib/python3.7/dist-packages/hypernetx/classes/__init__.py\u001b[0m in \u001b[0;36m<module>\u001b[0;34m()\u001b[0m\n\u001b[1;32m      1\u001b[0m \u001b[0;32mfrom\u001b[0m \u001b[0;34m.\u001b[0m\u001b[0mentity\u001b[0m \u001b[0;32mimport\u001b[0m \u001b[0mEntity\u001b[0m\u001b[0;34m,\u001b[0m \u001b[0mEntitySet\u001b[0m\u001b[0;34m\u001b[0m\u001b[0;34m\u001b[0m\u001b[0m\n\u001b[0;32m----> 2\u001b[0;31m \u001b[0;32mfrom\u001b[0m \u001b[0;34m.\u001b[0m\u001b[0mhypergraph\u001b[0m \u001b[0;32mimport\u001b[0m \u001b[0mHypergraph\u001b[0m\u001b[0;34m\u001b[0m\u001b[0;34m\u001b[0m\u001b[0m\n\u001b[0m\u001b[1;32m      3\u001b[0m \u001b[0;32mfrom\u001b[0m \u001b[0;34m.\u001b[0m\u001b[0mstaticentity\u001b[0m \u001b[0;32mimport\u001b[0m \u001b[0mStaticEntity\u001b[0m\u001b[0;34m,\u001b[0m \u001b[0mStaticEntitySet\u001b[0m\u001b[0;34m\u001b[0m\u001b[0;34m\u001b[0m\u001b[0m\n",
            "\u001b[0;32m/usr/local/lib/python3.7/dist-packages/hypernetx/classes/hypergraph.py\u001b[0m in \u001b[0;36m<module>\u001b[0;34m()\u001b[0m\n\u001b[1;32m     11\u001b[0m \u001b[0;32mfrom\u001b[0m \u001b[0mcollections\u001b[0m \u001b[0;32mimport\u001b[0m \u001b[0mOrderedDict\u001b[0m\u001b[0;34m,\u001b[0m \u001b[0mdefaultdict\u001b[0m\u001b[0;34m\u001b[0m\u001b[0;34m\u001b[0m\u001b[0m\n\u001b[1;32m     12\u001b[0m \u001b[0;32mfrom\u001b[0m \u001b[0mhypernetx\u001b[0m\u001b[0;34m.\u001b[0m\u001b[0mclasses\u001b[0m\u001b[0;34m.\u001b[0m\u001b[0mentity\u001b[0m \u001b[0;32mimport\u001b[0m \u001b[0mEntity\u001b[0m\u001b[0;34m,\u001b[0m \u001b[0mEntitySet\u001b[0m\u001b[0;34m\u001b[0m\u001b[0;34m\u001b[0m\u001b[0m\n\u001b[0;32m---> 13\u001b[0;31m \u001b[0;32mfrom\u001b[0m \u001b[0mhypernetx\u001b[0m\u001b[0;34m.\u001b[0m\u001b[0mclasses\u001b[0m\u001b[0;34m.\u001b[0m\u001b[0mstaticentity\u001b[0m \u001b[0;32mimport\u001b[0m \u001b[0mStaticEntity\u001b[0m\u001b[0;34m,\u001b[0m \u001b[0mStaticEntitySet\u001b[0m\u001b[0;34m\u001b[0m\u001b[0;34m\u001b[0m\u001b[0m\n\u001b[0m\u001b[1;32m     14\u001b[0m \u001b[0;32mfrom\u001b[0m \u001b[0mhypernetx\u001b[0m\u001b[0;34m.\u001b[0m\u001b[0mexception\u001b[0m \u001b[0;32mimport\u001b[0m \u001b[0mHyperNetXError\u001b[0m\u001b[0;34m\u001b[0m\u001b[0;34m\u001b[0m\u001b[0m\n\u001b[1;32m     15\u001b[0m \u001b[0;32mfrom\u001b[0m \u001b[0mhypernetx\u001b[0m\u001b[0;34m.\u001b[0m\u001b[0mutils\u001b[0m\u001b[0;34m.\u001b[0m\u001b[0mdecorators\u001b[0m \u001b[0;32mimport\u001b[0m \u001b[0mnot_implemented_for\u001b[0m\u001b[0;34m\u001b[0m\u001b[0;34m\u001b[0m\u001b[0m\n",
            "\u001b[0;32m/usr/local/lib/python3.7/dist-packages/hypernetx/classes/staticentity.py\u001b[0m in \u001b[0;36m<module>\u001b[0;34m()\u001b[0m\n\u001b[1;32m      8\u001b[0m \u001b[0;32mfrom\u001b[0m \u001b[0mhypernetx\u001b[0m\u001b[0;34m.\u001b[0m\u001b[0mexception\u001b[0m \u001b[0;32mimport\u001b[0m \u001b[0mHyperNetXError\u001b[0m\u001b[0;34m\u001b[0m\u001b[0;34m\u001b[0m\u001b[0m\n\u001b[1;32m      9\u001b[0m \u001b[0;32mfrom\u001b[0m \u001b[0mhypernetx\u001b[0m\u001b[0;34m.\u001b[0m\u001b[0mclasses\u001b[0m\u001b[0;34m.\u001b[0m\u001b[0mentity\u001b[0m \u001b[0;32mimport\u001b[0m \u001b[0mEntity\u001b[0m\u001b[0;34m,\u001b[0m \u001b[0mEntitySet\u001b[0m\u001b[0;34m\u001b[0m\u001b[0;34m\u001b[0m\u001b[0m\n\u001b[0;32m---> 10\u001b[0;31m \u001b[0;32mfrom\u001b[0m \u001b[0mhypernetx\u001b[0m\u001b[0;34m.\u001b[0m\u001b[0mutils\u001b[0m \u001b[0;32mimport\u001b[0m \u001b[0mHNXCount\u001b[0m\u001b[0;34m,\u001b[0m \u001b[0mDefaultOrderedDict\u001b[0m\u001b[0;34m,\u001b[0m \u001b[0mremove_row_duplicates\u001b[0m\u001b[0;34m\u001b[0m\u001b[0;34m\u001b[0m\u001b[0m\n\u001b[0m\u001b[1;32m     11\u001b[0m \u001b[0;32mfrom\u001b[0m \u001b[0mscipy\u001b[0m\u001b[0;34m.\u001b[0m\u001b[0msparse\u001b[0m \u001b[0;32mimport\u001b[0m \u001b[0mcoo_matrix\u001b[0m\u001b[0;34m,\u001b[0m \u001b[0mcsr_matrix\u001b[0m\u001b[0;34m,\u001b[0m \u001b[0missparse\u001b[0m\u001b[0;34m\u001b[0m\u001b[0;34m\u001b[0m\u001b[0m\n\u001b[1;32m     12\u001b[0m \u001b[0;32mimport\u001b[0m \u001b[0mitertools\u001b[0m \u001b[0;32mas\u001b[0m \u001b[0mit\u001b[0m\u001b[0;34m\u001b[0m\u001b[0;34m\u001b[0m\u001b[0m\n",
            "\u001b[0;32m/usr/local/lib/python3.7/dist-packages/hypernetx/utils/__init__.py\u001b[0m in \u001b[0;36m<module>\u001b[0;34m()\u001b[0m\n\u001b[1;32m      2\u001b[0m \u001b[0;32mfrom\u001b[0m \u001b[0;34m.\u001b[0m\u001b[0mdecorators\u001b[0m \u001b[0;32mimport\u001b[0m \u001b[0mnot_implemented_for\u001b[0m\u001b[0;34m\u001b[0m\u001b[0;34m\u001b[0m\u001b[0m\n\u001b[1;32m      3\u001b[0m \u001b[0;31m# from .toys import HarryPotter, LesMis, lesmis_hypergraph_from_df, book_tour, TransmissionProblem\u001b[0m\u001b[0;34m\u001b[0m\u001b[0;34m\u001b[0m\u001b[0;34m\u001b[0m\u001b[0m\n\u001b[0;32m----> 4\u001b[0;31m \u001b[0;32mfrom\u001b[0m \u001b[0;34m.\u001b[0m\u001b[0mtoys\u001b[0m \u001b[0;32mimport\u001b[0m \u001b[0;34m*\u001b[0m\u001b[0;34m\u001b[0m\u001b[0;34m\u001b[0m\u001b[0m\n\u001b[0m",
            "\u001b[0;31mModuleNotFoundError\u001b[0m: No module named 'hypernetx.utils.toys'",
            "",
            "\u001b[0;31m---------------------------------------------------------------------------\u001b[0;32m\nNOTE: If your import is failing due to a missing package, you can\nmanually install dependencies using either !pip or !apt.\n\nTo view examples of installing some common dependencies, click the\n\"Open Examples\" button below.\n\u001b[0;31m---------------------------------------------------------------------------\u001b[0m\n"
          ]
        }
      ]
    },
    {
      "cell_type": "code",
      "metadata": {
        "id": "bJa1vRgk7z-J"
      },
      "source": [
        "examples = {\n",
        "    \"Sunflower\" :    np.array([[1,1,0,0,1],\n",
        "                  [1,1,1,0,0],\n",
        "                  [1,1,1,0,0],\n",
        "                  [1,0,1,1,0],\n",
        "                  [1,0,1,1,0],\n",
        "                  [1,0,0,1,1],\n",
        "                  [1,0,0,1,1],\n",
        "                  [1,1,0,0,1],\n",
        "                  [0,0,0,0,1],\n",
        "                  [0,0,0,0,1],\n",
        "                  [0,0,0,0,1],\n",
        "                  [0,0,0,0,1],\n",
        "                  [0,1,0,0,0],\n",
        "                  [0,1,0,0,0],\n",
        "                  [0,1,0,0,0],\n",
        "                  [0,1,0,0,0],\n",
        "                  [0,0,1,0,0],\n",
        "                  [0,0,1,0,0],\n",
        "                  [0,0,1,0,0],\n",
        "                  [0,0,1,0,0],\n",
        "                  [0,0,0,1,0],\n",
        "                  [0,0,0,1,0],\n",
        "                  [0,0,0,1,0],\n",
        "                  [0,0,0,1,0],            \n",
        "                 ]),\n",
        "    \"Sunflower With No Core\": np.array([[1,0,0,1],\n",
        "                      [1,1,0,0],\n",
        "                      [1,1,0,0],\n",
        "                      [0,1,1,0],\n",
        "                      [0,1,1,0],\n",
        "                      [0,0,1,1],\n",
        "                      [0,0,1,1],\n",
        "                      [1,0,0,1],\n",
        "                      [0,0,0,1],\n",
        "                      [0,0,0,1],\n",
        "                      [0,0,0,1],\n",
        "                      [0,0,0,1],\n",
        "                      [1,0,0,0],\n",
        "                      [1,0,0,0],\n",
        "                      [1,0,0,0],\n",
        "                      [1,0,0,0],\n",
        "                      [0,1,0,0],\n",
        "                      [0,1,0,0],\n",
        "                      [0,1,0,0],\n",
        "                      [0,1,0,0],\n",
        "                      [0,0,1,0],\n",
        "                      [0,0,1,0],\n",
        "                      [0,0,1,0],\n",
        "                      [0,0,1,0],            \n",
        "                     ]),\n",
        "    \"Flower and Bud\":           np.array([[1,1,0,0,1, 0],\n",
        "                  [1,1,1,0,0, 0],\n",
        "                  [1,1,1,0,0, 0],\n",
        "                  [1,0,1,1,0, 0],\n",
        "                  [1,0,1,1,0, 0],\n",
        "                  [1,0,0,1,1, 0],\n",
        "                  [1,0,0,1,1, 0],\n",
        "                  [1,1,0,0,1, 0],\n",
        "                  [0,0,0,0,1, 0],\n",
        "                  [0,1,0,0,1, 1],\n",
        "                  [0,0,0,1,1, 1],\n",
        "                  [0,0,0,0,1, 0],\n",
        "                  [0,1,0,0,0, 0],\n",
        "                  [0,1,0,0,1, 1],\n",
        "                  [0,1,1,0,0, 1],\n",
        "                  [0,1,0,0,0, 0],\n",
        "                  [0,1,1,0,0, 1],\n",
        "                  [0,0,1,0,0, 0],\n",
        "                  [0,0,1,0,0, 0],\n",
        "                  [0,0,1,1,0, 1],\n",
        "                  [0,0,1,1,0, 1],\n",
        "                  [0,0,0,1,0, 0],\n",
        "                  [0,0,0,1,0, 0],\n",
        "                  [0,0,0,1,1, 1],\n",
        "                 ])\n",
        "    \n",
        "}"
      ],
      "execution_count": null,
      "outputs": []
    },
    {
      "cell_type": "code",
      "metadata": {
        "id": "oaj9c87G7z-J"
      },
      "source": [
        "def gen_params(membership_matrix):\n",
        "    \"\"\"A function that describes our membership matrix\"\"\"\n",
        "    (d, K) = np.shape(membership_matrix)\n",
        "    # The number of points in each distribution\n",
        "    b = np.sum(membership_matrix, axis = 0)\n",
        "    b = np.max(b)\n",
        "    return d,K,b,membership_matrix"
      ],
      "execution_count": null,
      "outputs": []
    },
    {
      "cell_type": "markdown",
      "metadata": {
        "id": "1EG_YeFn7z-K"
      },
      "source": [
        "## Some visualization functions"
      ]
    },
    {
      "cell_type": "code",
      "metadata": {
        "id": "Oh6YNKGo7z-K"
      },
      "source": [
        "def reformat(arr):\n",
        "    dists = {}\n",
        "    for i in range(arr.shape[1]):\n",
        "        membership = []\n",
        "        for idx, j in enumerate(arr[:,i]):\n",
        "            if j:\n",
        "                membership.append(str(idx))\n",
        "            else:\n",
        "                pass\n",
        "        dists[i] = membership\n",
        "    return dists\n",
        "\n",
        "def reformat_graph(arr):\n",
        "    edges = []\n",
        "    for i in range(arr.shape[0]):\n",
        "        membership = []\n",
        "        for idx, j in enumerate(arr[i, :]):\n",
        "            if j:\n",
        "                membership.append(str(idx))\n",
        "            else:\n",
        "                pass\n",
        "        for point1 in membership:\n",
        "            for point2 in membership:\n",
        "                edges.append(tuple(sorted((point1, point2))))\n",
        "    return edges\n",
        "\n",
        "def reformat_graph_weighted(arr):\n",
        "    edges = []\n",
        "    for i in range(arr.shape[0]):\n",
        "        membership = []\n",
        "        for idx, j in enumerate(arr[i, :]):\n",
        "            if j:\n",
        "                membership.append(str(idx))\n",
        "            else:\n",
        "                pass\n",
        "        for point1 in membership:\n",
        "            for point2 in membership:\n",
        "                edges.append(tuple(sorted((point1, point2))))\n",
        "                if point1 == point2:\n",
        "                    edges.append(tuple(sorted((point1, point2))))\n",
        "    return edges"
      ],
      "execution_count": null,
      "outputs": []
    },
    {
      "cell_type": "code",
      "metadata": {
        "id": "UbQFLHkk7z-K"
      },
      "source": [
        "def visualize_dist_membership(membership_matrix):\n",
        "    \"\"\"Visualize the distributions using hypergraph vis software\"\"\"\n",
        "    H = hnx.Hypergraph(reformat(membership_matrix))\n",
        "    plt.figure(figsize=(6,6))\n",
        "    hnx.draw(H)\n",
        "    \n",
        "    \n",
        "def visualize_dist_graph(membership_matrix):\n",
        "    \"\"\"Visualize the distributions as spectral graphs\"\"\"\n",
        "    G=nx.Graph()\n",
        "    for i in range(membership_matrix.shape[1]):\n",
        "        G.add_node(str(i), label=str(i))\n",
        "    for e, weight in list(Counter(reformat_graph_weighted(membership_matrix)).items()):\n",
        "        G.add_edge(*e, weight=weight/2.0)\n",
        "    nx.draw_spectral(G, with_labels=True)\n",
        "\n"
      ],
      "execution_count": null,
      "outputs": []
    },
    {
      "cell_type": "code",
      "metadata": {
        "id": "IBLEykXZ7z-L"
      },
      "source": [
        "d,K,b,B = gen_params(examples[  \"Sunflower\"])"
      ],
      "execution_count": null,
      "outputs": []
    },
    {
      "cell_type": "code",
      "metadata": {
        "id": "DhLQ0lwE7z-L"
      },
      "source": [
        "visualize_dist_membership(B)"
      ],
      "execution_count": null,
      "outputs": []
    },
    {
      "cell_type": "code",
      "metadata": {
        "id": "dj6Zphb37z-M"
      },
      "source": [
        "visualize_dist_graph(B)"
      ],
      "execution_count": null,
      "outputs": []
    },
    {
      "cell_type": "markdown",
      "metadata": {
        "id": "MZbVmZ797z-M"
      },
      "source": [
        "# Individualized (Pointwise Optimization)"
      ]
    },
    {
      "cell_type": "code",
      "metadata": {
        "id": "vqCFD8uQ7z-M"
      },
      "source": [
        "import sklearn\n",
        "# sklearn.datasets.make_spd_matrix(K)"
      ],
      "execution_count": 3,
      "outputs": []
    },
    {
      "cell_type": "code",
      "metadata": {
        "id": "Ny3Ug0j07z-M"
      },
      "source": [
        "# plt.matshow(membership_array)"
      ],
      "execution_count": 4,
      "outputs": []
    },
    {
      "cell_type": "code",
      "metadata": {
        "colab": {
          "base_uri": "https://localhost:8080/",
          "height": 164
        },
        "id": "xFEZLPYr7z-N",
        "outputId": "245a2e5a-f8e4-4501-f48d-392d838320a2"
      },
      "source": [
        "len(np.array(np.ones(size//2).tolist() + (0.1*np.ones(size-size//2)).tolist()))"
      ],
      "execution_count": 5,
      "outputs": [
        {
          "output_type": "error",
          "ename": "NameError",
          "evalue": "ignored",
          "traceback": [
            "\u001b[0;31m---------------------------------------------------------------------------\u001b[0m",
            "\u001b[0;31mNameError\u001b[0m                                 Traceback (most recent call last)",
            "\u001b[0;32m<ipython-input-5-06232d4f18e8>\u001b[0m in \u001b[0;36m<module>\u001b[0;34m()\u001b[0m\n\u001b[0;32m----> 1\u001b[0;31m \u001b[0mlen\u001b[0m\u001b[0;34m(\u001b[0m\u001b[0mnp\u001b[0m\u001b[0;34m.\u001b[0m\u001b[0marray\u001b[0m\u001b[0;34m(\u001b[0m\u001b[0mnp\u001b[0m\u001b[0;34m.\u001b[0m\u001b[0mones\u001b[0m\u001b[0;34m(\u001b[0m\u001b[0msize\u001b[0m\u001b[0;34m//\u001b[0m\u001b[0;36m2\u001b[0m\u001b[0;34m)\u001b[0m\u001b[0;34m.\u001b[0m\u001b[0mtolist\u001b[0m\u001b[0;34m(\u001b[0m\u001b[0;34m)\u001b[0m \u001b[0;34m+\u001b[0m \u001b[0;34m(\u001b[0m\u001b[0;36m0.1\u001b[0m\u001b[0;34m*\u001b[0m\u001b[0mnp\u001b[0m\u001b[0;34m.\u001b[0m\u001b[0mones\u001b[0m\u001b[0;34m(\u001b[0m\u001b[0msize\u001b[0m\u001b[0;34m-\u001b[0m\u001b[0msize\u001b[0m\u001b[0;34m//\u001b[0m\u001b[0;36m2\u001b[0m\u001b[0;34m)\u001b[0m\u001b[0;34m)\u001b[0m\u001b[0;34m.\u001b[0m\u001b[0mtolist\u001b[0m\u001b[0;34m(\u001b[0m\u001b[0;34m)\u001b[0m\u001b[0;34m)\u001b[0m\u001b[0;34m)\u001b[0m\u001b[0;34m\u001b[0m\u001b[0;34m\u001b[0m\u001b[0m\n\u001b[0m",
            "\u001b[0;31mNameError\u001b[0m: name 'size' is not defined"
          ]
        }
      ]
    },
    {
      "cell_type": "code",
      "metadata": {
        "colab": {
          "base_uri": "https://localhost:8080/",
          "height": 181
        },
        "id": "GhGTycy17z-N",
        "outputId": "54a78e70-bf25-45ba-c307-000af92ad491"
      },
      "source": [
        "np.array(np.ones(size//2).tolist() + (0.1*np.ones(size-size//2)).tolist())/np.linalg.norm(np.array(np.ones(size//2).tolist() + (0.1*np.ones(size-size//2)).tolist()))"
      ],
      "execution_count": 6,
      "outputs": [
        {
          "output_type": "error",
          "ename": "NameError",
          "evalue": "ignored",
          "traceback": [
            "\u001b[0;31m---------------------------------------------------------------------------\u001b[0m",
            "\u001b[0;31mNameError\u001b[0m                                 Traceback (most recent call last)",
            "\u001b[0;32m<ipython-input-6-f9317e16b52a>\u001b[0m in \u001b[0;36m<module>\u001b[0;34m()\u001b[0m\n\u001b[0;32m----> 1\u001b[0;31m \u001b[0mnp\u001b[0m\u001b[0;34m.\u001b[0m\u001b[0marray\u001b[0m\u001b[0;34m(\u001b[0m\u001b[0mnp\u001b[0m\u001b[0;34m.\u001b[0m\u001b[0mones\u001b[0m\u001b[0;34m(\u001b[0m\u001b[0msize\u001b[0m\u001b[0;34m//\u001b[0m\u001b[0;36m2\u001b[0m\u001b[0;34m)\u001b[0m\u001b[0;34m.\u001b[0m\u001b[0mtolist\u001b[0m\u001b[0;34m(\u001b[0m\u001b[0;34m)\u001b[0m \u001b[0;34m+\u001b[0m \u001b[0;34m(\u001b[0m\u001b[0;36m0.1\u001b[0m\u001b[0;34m*\u001b[0m\u001b[0mnp\u001b[0m\u001b[0;34m.\u001b[0m\u001b[0mones\u001b[0m\u001b[0;34m(\u001b[0m\u001b[0msize\u001b[0m\u001b[0;34m-\u001b[0m\u001b[0msize\u001b[0m\u001b[0;34m//\u001b[0m\u001b[0;36m2\u001b[0m\u001b[0;34m)\u001b[0m\u001b[0;34m)\u001b[0m\u001b[0;34m.\u001b[0m\u001b[0mtolist\u001b[0m\u001b[0;34m(\u001b[0m\u001b[0;34m)\u001b[0m\u001b[0;34m)\u001b[0m\u001b[0;34m/\u001b[0m\u001b[0mnp\u001b[0m\u001b[0;34m.\u001b[0m\u001b[0mlinalg\u001b[0m\u001b[0;34m.\u001b[0m\u001b[0mnorm\u001b[0m\u001b[0;34m(\u001b[0m\u001b[0mnp\u001b[0m\u001b[0;34m.\u001b[0m\u001b[0marray\u001b[0m\u001b[0;34m(\u001b[0m\u001b[0mnp\u001b[0m\u001b[0;34m.\u001b[0m\u001b[0mones\u001b[0m\u001b[0;34m(\u001b[0m\u001b[0msize\u001b[0m\u001b[0;34m//\u001b[0m\u001b[0;36m2\u001b[0m\u001b[0;34m)\u001b[0m\u001b[0;34m.\u001b[0m\u001b[0mtolist\u001b[0m\u001b[0;34m(\u001b[0m\u001b[0;34m)\u001b[0m \u001b[0;34m+\u001b[0m \u001b[0;34m(\u001b[0m\u001b[0;36m0.1\u001b[0m\u001b[0;34m*\u001b[0m\u001b[0mnp\u001b[0m\u001b[0;34m.\u001b[0m\u001b[0mones\u001b[0m\u001b[0;34m(\u001b[0m\u001b[0msize\u001b[0m\u001b[0;34m-\u001b[0m\u001b[0msize\u001b[0m\u001b[0;34m//\u001b[0m\u001b[0;36m2\u001b[0m\u001b[0;34m)\u001b[0m\u001b[0;34m)\u001b[0m\u001b[0;34m.\u001b[0m\u001b[0mtolist\u001b[0m\u001b[0;34m(\u001b[0m\u001b[0;34m)\u001b[0m\u001b[0;34m)\u001b[0m\u001b[0;34m)\u001b[0m\u001b[0;34m\u001b[0m\u001b[0;34m\u001b[0m\u001b[0m\n\u001b[0m",
            "\u001b[0;31mNameError\u001b[0m: name 'size' is not defined"
          ]
        }
      ]
    },
    {
      "cell_type": "code",
      "metadata": {
        "id": "PszI7vGwl9Qs"
      },
      "source": [
        ""
      ],
      "execution_count": 6,
      "outputs": []
    },
    {
      "cell_type": "code",
      "metadata": {
        "id": "DoaZx0PPmTjI"
      },
      "source": [
        ""
      ],
      "execution_count": null,
      "outputs": []
    },
    {
      "cell_type": "code",
      "metadata": {
        "colab": {
          "base_uri": "https://localhost:8080/"
        },
        "id": "Gaedj8pmsDPb",
        "outputId": "de1e13d8-9adf-44b7-bf2b-cca9f90ccc51"
      },
      "source": [
        "(i+1)//np.sqrt(b)"
      ],
      "execution_count": null,
      "outputs": [
        {
          "output_type": "execute_result",
          "data": {
            "text/plain": [
              "4.0"
            ]
          },
          "metadata": {
            "tags": []
          },
          "execution_count": 108
        }
      ]
    },
    {
      "cell_type": "code",
      "metadata": {
        "colab": {
          "base_uri": "https://localhost:8080/"
        },
        "id": "NWSvX1dJphSy",
        "outputId": "c5bde043-0137-4843-bce1-afde513de0c3"
      },
      "source": [
        "b = 16\n",
        "membership_array = np.zeros((int(np.sqrt(b)*np.sqrt(b) + b*(b-np.sqrt(b))), int(b+1)))\n",
        "membership_array[0:b, 0]  = 1\n",
        "for i in range(1, b+1):\n",
        "  # print(i, b)\n",
        "  chunk = int(i//np.sqrt(b))\n",
        "  if i%np.sqrt(b) ==0:\n",
        "    chunk-=1\n",
        "  print(i, chunk)\n",
        "  for j in range(chunk*int(np.sqrt(b)), (chunk+1)*int(np.sqrt(b))):\n",
        "    # print(j,i)\n",
        "    membership_array[j,i] = l\n",
        "  for j in range(b+(i-1)*(b-int(np.sqrt(b))),b+(i)*(b-int(np.sqrt(b))) ):\n",
        "    membership_array[j,i] = 1\n"
      ],
      "execution_count": null,
      "outputs": [
        {
          "output_type": "stream",
          "text": [
            "1 0\n",
            "2 0\n",
            "3 0\n",
            "4 0\n",
            "5 1\n",
            "6 1\n",
            "7 1\n",
            "8 1\n",
            "9 2\n",
            "10 2\n",
            "11 2\n",
            "12 2\n",
            "13 3\n",
            "14 3\n",
            "15 3\n",
            "16 3\n"
          ],
          "name": "stdout"
        }
      ]
    },
    {
      "cell_type": "code",
      "metadata": {
        "colab": {
          "base_uri": "https://localhost:8080/",
          "height": 961
        },
        "id": "DC4h_cOjmo1F",
        "outputId": "37fc259a-d91a-407d-eb83-89e5f46bb2e4"
      },
      "source": [
        "plt.matshow(membership_array)"
      ],
      "execution_count": null,
      "outputs": [
        {
          "output_type": "execute_result",
          "data": {
            "text/plain": [
              "<matplotlib.image.AxesImage at 0x7fe13c9ab390>"
            ]
          },
          "metadata": {
            "tags": []
          },
          "execution_count": 150
        },
        {
          "output_type": "display_data",
          "data": {
            "image/png": "[encoded data removed]",
            "text/plain": [
              "<Figure size 288x1152 with 1 Axes>"
            ]
          },
          "metadata": {
            "tags": [],
            "needs_background": "light"
          }
        }
      ]
    },
    {
      "cell_type": "code",
      "metadata": {
        "id": "poTiNL3SmpA_"
      },
      "source": [
        ""
      ],
      "execution_count": null,
      "outputs": []
    },
    {
      "cell_type": "code",
      "metadata": {
        "colab": {
          "base_uri": "https://localhost:8080/"
        },
        "id": "mWzY5o7k7z-N",
        "outputId": "50aa53bd-b5f7-4642-9ebc-5a953227765b"
      },
      "source": [
        "print(jjjj)\n",
        "# size = sample(range(3, 1000), 1)[0]\n",
        "# k = sample(range(2, 25), 1)[0]\n",
        "# b = sample(range(2, int(size/2)), 1)[0]\n",
        "# mu = sample(range(1, b), 1)[0]/b\n",
        "\n",
        "size = int(np.sqrt(b)*np.sqrt(b) + b*(b-np.sqrt(b)))\n",
        "k= b+1\n",
        "# member/ship_array = np.zeros((int(np.sqrt(b)*np.sqrt(b) + b*(b-np.sqrt(b))), int(b+1)))\n",
        "mu = 0.5+1/(2*b)\n",
        "\n",
        "xx = np.array(np.ones(size//2).tolist() + (0.1*np.ones(size-size//2)).tolist())\n",
        "xx = xx/np.linalg.norm(xx, 1)\n",
        "\n",
        "for i in range(k):\n",
        "  for j in np.random.choice(np.array(range(size)), b, replace=False, p=xx):\n",
        "      membership_array[j, i] = 1\n",
        "      \n",
        "membership_array = membership_array[~np.all(membership_array == 0, axis=1)]\n",
        "size = membership_array.shape[0]\n",
        "\n",
        "\n",
        "B = membership_array\n",
        "mas.append(B)\n",
        "a = np.ones(k)\n",
        "\n",
        "n = cvx.Variable(k)\n",
        "\n",
        "constraints = [B.T@(cvx.exp(cvx.log(1-1.0/b)*B@n))<= mu*a]\n",
        "print('distribution size is ', b, '  k is ', k, '  universe has size ', size)\n",
        "\n",
        "constraints += [n >= np.zeros(k)]  \n",
        "prob = cvx.Problem(cvx.Minimize(cvx.pnorm(n, 1)),constraints)    \n",
        "prob.solve(solver=cvx.SCS, max_iters=2500, eps=0.000001, verbose=False)\n",
        "\n",
        "i = 0\n",
        "thets = np.zeros(k)\n",
        "while np.min(B.T@np.exp(np.log(1-1.0/b)*B@thets)) > mu:\n",
        "  mindex = np.argmax(B.T@np.exp(np.log(1-1.0/b)*B@thets))\n",
        "  thets[mindex] += 1\n",
        "  i += 1\n",
        "print('max difference between sampling and protocol  ', np.max(np.abs(n.value-thets)))\n",
        "n2, p, m = optimize_groupwise(B, mu, individually_rational=False)\n",
        "print('max difference between linear and protocol  ', np.max(np.abs(n2.value-thets)))\n",
        "print('max difference between linear and sampling  ', np.max(n2.value-n.value))\n",
        "print('total difference between linear and sampling  ',np.sum(np.abs(n2.value-n.value)))\n",
        "print(np.min(n2.value), np.max(n2.value), np.sum(n2.value))\n",
        "# cov_array = np.zeros((k,k))\n",
        "# for point in range(size):  \n",
        "#   for i in range(k):\n",
        "#     for j in range(k):\n",
        "#         if membership_array[point, i] and membership_array[point, j]:\n",
        "#             cov_array[i,j] += 1\n",
        "# plt.matshow(cov_array)\n",
        "# plt.show()\n",
        "print('----------------------')"
      ],
      "execution_count": null,
      "outputs": [
        {
          "output_type": "stream",
          "text": [
            "4\n",
            "distribution size is  16   k is  17   universe has size  208\n",
            "max difference between sampling and protocol   11.502943821345127\n",
            "max difference between linear and protocol   61.59642600707984\n",
            "max difference between linear and sampling   50.093482185734715\n",
            "total difference between linear and sampling   575.2413886471065\n",
            "3.5989874687874286e-06 98.59642600707984 1132.217833047468\n",
            "----------------------\n"
          ],
          "name": "stdout"
        }
      ]
    },
    {
      "cell_type": "code",
      "metadata": {
        "id": "eb4xB6CRyVZD"
      },
      "source": [
        "def optimize_groupwise_fair(membership_matrix, mu, individually_rational=False):\n",
        "    d,K,b,membership_matrix = gen_params(membership_matrix)\n",
        "    n = cvx.Variable(K)\n",
        "    a = np.ones(K)\n",
        "    B = membership_matrix\n",
        "    plt.matsh\n",
        "    constraints = [B.T@(cvx.exp(cvx.log(1-1.0/b)*B@n))<= mu*a]\n",
        "    constraints += [n >= np.zeros(K)] \n",
        "\n",
        "    prob = cvx.Problem(cvx.Minimize(cvx.norm(n, 1)),constraints)    \n",
        "    prob.solve(solver=cvx.SCS, verbose=False, max_iters=2500, eps=0.000001)\n",
        "    return n, prob, mu"
      ],
      "execution_count": null,
      "outputs": []
    },
    {
      "cell_type": "code",
      "metadata": {
        "id": "_skKJFN6yVdB"
      },
      "source": [
        ""
      ],
      "execution_count": null,
      "outputs": []
    },
    {
      "cell_type": "code",
      "metadata": {
        "id": "O8yKeVCwyVli"
      },
      "source": [
        ""
      ],
      "execution_count": null,
      "outputs": []
    },
    {
      "cell_type": "code",
      "metadata": {
        "id": "ZZEMfd2TyVrd"
      },
      "source": [
        ""
      ],
      "execution_count": null,
      "outputs": []
    },
    {
      "cell_type": "code",
      "metadata": {
        "scrolled": false,
        "colab": {
          "base_uri": "https://localhost:8080/",
          "height": 987
        },
        "id": "jj8MkZMl7z-O",
        "outputId": "697e041d-2213-4d00-ab04-c2ed375c9afe"
      },
      "source": [
        "from random import sample\n",
        "mas = []\n",
        "for jjjj in range(10):\n",
        "    print(jjjj)\n",
        "    size = sample(range(3, 1000), 1)[0]\n",
        "    k = sample(range(2, 25), 1)[0]\n",
        "    b = sample(range(2, int(size/2)), 1)[0]\n",
        "    mu = sample(range(1, b), 1)[0]/b\n",
        "\n",
        "    # size = 400\n",
        "    # k=98\n",
        "    # b = 135\n",
        "    membership_array = np.zeros((size,k))\n",
        "    \n",
        "    xx = np.array(np.ones(size//2).tolist() + (0.1*np.ones(size-size//2)).tolist())\n",
        "    xx = xx/np.linalg.norm(xx, 1)\n",
        "    \n",
        "    for i in range(k):\n",
        "        for j in np.random.choice(np.array(range(size)), b, replace=False, p=xx):\n",
        "            membership_array[j, i] = 1\n",
        "            \n",
        "    membership_array = membership_array[~np.all(membership_array == 0, axis=1)]\n",
        "    size = membership_array.shape[0]\n",
        "\n",
        "\n",
        "    B = membership_array\n",
        "    mas.append(B)\n",
        "    a = np.ones(k)\n",
        "   \n",
        "    n = cvx.Variable(k)\n",
        "\n",
        "    constraints = [B.T@(cvx.exp(cvx.log(1-1.0/b)*B@n))<= mu*a]\n",
        "    print('distribution size is ', b, '  k is ', k, '  universe has size ', size)\n",
        "\n",
        "    constraints += [n >= np.zeros(k)]  \n",
        "    prob = cvx.Problem(cvx.Minimize(cvx.pnorm(n, 1)),constraints)    \n",
        "    prob.solve(solver=cvx.SCS, max_iters=2500, eps=0.000001, verbose=False)\n",
        "\n",
        "    i = 0\n",
        "    thets = np.zeros(k)\n",
        "    while np.min(B.T@np.exp(np.log(1-1.0/b)*B@thets)) > mu:\n",
        "        mindex = np.argmax(B.T@np.exp(np.log(1-1.0/b)*B@thets))\n",
        "        thets[mindex] += 1\n",
        "        i += 1\n",
        "    print('max difference between sampling and protocol  ', np.max(np.abs(n.value-thets)))\n",
        "    n2, p, m = optimize_groupwise(B, mu, individually_rational=False)\n",
        "    print('max difference between linear and protocol  ', np.max(np.abs(n2.value-thets)))\n",
        "    print('max difference between linear and sampling  ', np.max(n2.value-n.value))\n",
        "    print('total difference between linear and sampling  ',np.sum(np.abs(n2.value-n.value)))\n",
        "    print(np.min(n2.value), np.max(n2.value), np.sum(n2.value))\n",
        "    # cov_array = np.zeros((k,k))\n",
        "    # for point in range(size):  \n",
        "    #   for i in range(k):\n",
        "    #     for j in range(k):\n",
        "    #         if membership_array[point, i] and membership_array[point, j]:\n",
        "    #             cov_array[i,j] += 1\n",
        "    # plt.matshow(cov_array)\n",
        "    # plt.show()\n",
        "    print('----------------------')"
      ],
      "execution_count": null,
      "outputs": [
        {
          "output_type": "stream",
          "text": [
            "0\n",
            "distribution size is  144   k is  24   universe has size  323\n",
            "max difference between sampling and protocol   0.8200087760143333\n",
            "max difference between linear and protocol   83.90034905206772\n",
            "max difference between linear and sampling   84.07553019642171\n",
            "total difference between linear and sampling   863.6547861406402\n",
            "20.09718445363592 370.9003490520677 3937.9916961047466\n",
            "----------------------\n",
            "1\n",
            "distribution size is  40   k is  6   universe has size  196\n",
            "max difference between sampling and protocol   0.4993647538148309\n",
            "max difference between linear and protocol   0.5043285012750118\n",
            "max difference between linear and sampling   0.0030029474572756953\n",
            "total difference between linear and sampling   0.01522118404332673\n",
            "180.43547196943962 186.49947220777796 1106.8418556232814\n",
            "----------------------\n",
            "2\n",
            "distribution size is  75   k is  7   universe has size  247\n",
            "max difference between sampling and protocol   0.5896967449078261\n",
            "max difference between linear and protocol   0.5929043200459319\n",
            "max difference between linear and sampling   0.003207575138105767\n",
            "total difference between linear and sampling   0.007728198452269908\n",
            "205.3397788031031 257.330322850901 1641.0175197213118\n",
            "----------------------\n",
            "3\n",
            "distribution size is  95   k is  8   universe has size  461\n",
            "max difference between sampling and protocol   0.6029677906369102\n",
            "max difference between linear and protocol   0.6056496724848444\n",
            "max difference between linear and sampling   0.002768236424458337\n",
            "total difference between linear and sampling   0.017646962703906865\n",
            "356.22136781944647 379.51728259065055 2958.2430629274386\n",
            "----------------------\n",
            "4\n",
            "distribution size is  25   k is  15   universe has size  72\n",
            "max difference between sampling and protocol   50.31588661222091\n",
            "Failure:Interrupted\n"
          ],
          "name": "stdout"
        },
        {
          "output_type": "error",
          "ename": "SolverError",
          "evalue": "ignored",
          "traceback": [
            "\u001b[0;31m---------------------------------------------------------------------------\u001b[0m",
            "\u001b[0;31mSolverError\u001b[0m                               Traceback (most recent call last)",
            "\u001b[0;32m<ipython-input-42-f413d102eb1a>\u001b[0m in \u001b[0;36m<module>\u001b[0;34m()\u001b[0m\n\u001b[1;32m     44\u001b[0m         \u001b[0mi\u001b[0m \u001b[0;34m+=\u001b[0m \u001b[0;36m1\u001b[0m\u001b[0;34m\u001b[0m\u001b[0;34m\u001b[0m\u001b[0m\n\u001b[1;32m     45\u001b[0m     \u001b[0mprint\u001b[0m\u001b[0;34m(\u001b[0m\u001b[0;34m'max difference between sampling and protocol  '\u001b[0m\u001b[0;34m,\u001b[0m \u001b[0mnp\u001b[0m\u001b[0;34m.\u001b[0m\u001b[0mmax\u001b[0m\u001b[0;34m(\u001b[0m\u001b[0mnp\u001b[0m\u001b[0;34m.\u001b[0m\u001b[0mabs\u001b[0m\u001b[0;34m(\u001b[0m\u001b[0mn\u001b[0m\u001b[0;34m.\u001b[0m\u001b[0mvalue\u001b[0m\u001b[0;34m-\u001b[0m\u001b[0mthets\u001b[0m\u001b[0;34m)\u001b[0m\u001b[0;34m)\u001b[0m\u001b[0;34m)\u001b[0m\u001b[0;34m\u001b[0m\u001b[0;34m\u001b[0m\u001b[0m\n\u001b[0;32m---> 46\u001b[0;31m     \u001b[0mn2\u001b[0m\u001b[0;34m,\u001b[0m \u001b[0mp\u001b[0m\u001b[0;34m,\u001b[0m \u001b[0mm\u001b[0m \u001b[0;34m=\u001b[0m \u001b[0moptimize_groupwise\u001b[0m\u001b[0;34m(\u001b[0m\u001b[0mB\u001b[0m\u001b[0;34m,\u001b[0m \u001b[0mmu\u001b[0m\u001b[0;34m,\u001b[0m \u001b[0mindividually_rational\u001b[0m\u001b[0;34m=\u001b[0m\u001b[0;32mTrue\u001b[0m\u001b[0;34m)\u001b[0m\u001b[0;34m\u001b[0m\u001b[0;34m\u001b[0m\u001b[0m\n\u001b[0m\u001b[1;32m     47\u001b[0m     \u001b[0mprint\u001b[0m\u001b[0;34m(\u001b[0m\u001b[0;34m'max difference between linear and protocol  '\u001b[0m\u001b[0;34m,\u001b[0m \u001b[0mnp\u001b[0m\u001b[0;34m.\u001b[0m\u001b[0mmax\u001b[0m\u001b[0;34m(\u001b[0m\u001b[0mnp\u001b[0m\u001b[0;34m.\u001b[0m\u001b[0mabs\u001b[0m\u001b[0;34m(\u001b[0m\u001b[0mn2\u001b[0m\u001b[0;34m.\u001b[0m\u001b[0mvalue\u001b[0m\u001b[0;34m-\u001b[0m\u001b[0mthets\u001b[0m\u001b[0;34m)\u001b[0m\u001b[0;34m)\u001b[0m\u001b[0;34m)\u001b[0m\u001b[0;34m\u001b[0m\u001b[0;34m\u001b[0m\u001b[0m\n\u001b[1;32m     48\u001b[0m     \u001b[0mprint\u001b[0m\u001b[0;34m(\u001b[0m\u001b[0;34m'max difference between linear and sampling  '\u001b[0m\u001b[0;34m,\u001b[0m \u001b[0mnp\u001b[0m\u001b[0;34m.\u001b[0m\u001b[0mmax\u001b[0m\u001b[0;34m(\u001b[0m\u001b[0mn2\u001b[0m\u001b[0;34m.\u001b[0m\u001b[0mvalue\u001b[0m\u001b[0;34m-\u001b[0m\u001b[0mn\u001b[0m\u001b[0;34m.\u001b[0m\u001b[0mvalue\u001b[0m\u001b[0;34m)\u001b[0m\u001b[0;34m)\u001b[0m\u001b[0;34m\u001b[0m\u001b[0;34m\u001b[0m\u001b[0m\n",
            "\u001b[0;32m<ipython-input-20-3ac9b814416d>\u001b[0m in \u001b[0;36moptimize_groupwise\u001b[0;34m(membership_matrix, mu, individually_rational)\u001b[0m\n\u001b[1;32m      7\u001b[0m     \u001b[0mconstraints\u001b[0m \u001b[0;34m+=\u001b[0m \u001b[0;34m[\u001b[0m\u001b[0mn\u001b[0m \u001b[0;34m>=\u001b[0m \u001b[0mnp\u001b[0m\u001b[0;34m.\u001b[0m\u001b[0mzeros\u001b[0m\u001b[0;34m(\u001b[0m\u001b[0mK\u001b[0m\u001b[0;34m)\u001b[0m\u001b[0;34m]\u001b[0m\u001b[0;34m\u001b[0m\u001b[0;34m\u001b[0m\u001b[0m\n\u001b[1;32m      8\u001b[0m     \u001b[0;32mif\u001b[0m \u001b[0mindividually_rational\u001b[0m\u001b[0;34m:\u001b[0m\u001b[0;34m\u001b[0m\u001b[0;34m\u001b[0m\u001b[0m\n\u001b[0;32m----> 9\u001b[0;31m         \u001b[0mx_ir_values\u001b[0m\u001b[0;34m,\u001b[0m \u001b[0m_\u001b[0m \u001b[0;34m=\u001b[0m \u001b[0mnaive_solution\u001b[0m\u001b[0;34m(\u001b[0m\u001b[0mmembership_matrix\u001b[0m\u001b[0;34m,\u001b[0m \u001b[0mmu\u001b[0m\u001b[0;34m)\u001b[0m\u001b[0;34m\u001b[0m\u001b[0;34m\u001b[0m\u001b[0m\n\u001b[0m\u001b[1;32m     10\u001b[0m         \u001b[0mconstraints\u001b[0m \u001b[0;34m+=\u001b[0m \u001b[0;34m[\u001b[0m \u001b[0mn\u001b[0m \u001b[0;34m<=\u001b[0m \u001b[0mx_ir_values\u001b[0m \u001b[0;34m]\u001b[0m\u001b[0;34m\u001b[0m\u001b[0;34m\u001b[0m\u001b[0m\n\u001b[1;32m     11\u001b[0m     \u001b[0;32melse\u001b[0m\u001b[0;34m:\u001b[0m\u001b[0;34m\u001b[0m\u001b[0;34m\u001b[0m\u001b[0m\n",
            "\u001b[0;32m<ipython-input-19-67edf1a4c95f>\u001b[0m in \u001b[0;36mnaive_solution\u001b[0;34m(membership_matrix, mu)\u001b[0m\n\u001b[1;32m     21\u001b[0m     \u001b[0mconstraints\u001b[0m \u001b[0;34m=\u001b[0m \u001b[0;34m[\u001b[0m\u001b[0mB\u001b[0m\u001b[0;34m.\u001b[0m\u001b[0mT\u001b[0m\u001b[0;34m@\u001b[0m\u001b[0;34m(\u001b[0m\u001b[0mcvx\u001b[0m\u001b[0;34m.\u001b[0m\u001b[0mexp\u001b[0m\u001b[0;34m(\u001b[0m\u001b[0mcvx\u001b[0m\u001b[0;34m.\u001b[0m\u001b[0mlog\u001b[0m\u001b[0;34m(\u001b[0m\u001b[0;36m1\u001b[0m\u001b[0;34m-\u001b[0m\u001b[0;36m1.0\u001b[0m\u001b[0;34m/\u001b[0m\u001b[0mb\u001b[0m\u001b[0;34m)\u001b[0m\u001b[0;34m*\u001b[0m\u001b[0mB\u001b[0m\u001b[0;34m@\u001b[0m\u001b[0mn\u001b[0m\u001b[0;34m)\u001b[0m\u001b[0;34m)\u001b[0m\u001b[0;34m<=\u001b[0m \u001b[0mmu\u001b[0m\u001b[0;34m*\u001b[0m\u001b[0ma\u001b[0m\u001b[0;34m]\u001b[0m\u001b[0;34m\u001b[0m\u001b[0;34m\u001b[0m\u001b[0m\n\u001b[1;32m     22\u001b[0m     \u001b[0mprob\u001b[0m \u001b[0;34m=\u001b[0m \u001b[0mcvx\u001b[0m\u001b[0;34m.\u001b[0m\u001b[0mProblem\u001b[0m\u001b[0;34m(\u001b[0m\u001b[0mcvx\u001b[0m\u001b[0;34m.\u001b[0m\u001b[0mMinimize\u001b[0m\u001b[0;34m(\u001b[0m\u001b[0mcvx\u001b[0m\u001b[0;34m.\u001b[0m\u001b[0mnorm\u001b[0m\u001b[0;34m(\u001b[0m\u001b[0mn\u001b[0m\u001b[0;34m,\u001b[0m \u001b[0;36m1\u001b[0m\u001b[0;34m)\u001b[0m\u001b[0;34m)\u001b[0m\u001b[0;34m,\u001b[0m\u001b[0mconstraints\u001b[0m\u001b[0;34m)\u001b[0m\u001b[0;34m\u001b[0m\u001b[0;34m\u001b[0m\u001b[0m\n\u001b[0;32m---> 23\u001b[0;31m     \u001b[0mprob\u001b[0m\u001b[0;34m.\u001b[0m\u001b[0msolve\u001b[0m\u001b[0;34m(\u001b[0m\u001b[0msolver\u001b[0m\u001b[0;34m=\u001b[0m\u001b[0mcvx\u001b[0m\u001b[0;34m.\u001b[0m\u001b[0mSCS\u001b[0m\u001b[0;34m,\u001b[0m \u001b[0mverbose\u001b[0m\u001b[0;34m=\u001b[0m\u001b[0;32mFalse\u001b[0m\u001b[0;34m,\u001b[0m \u001b[0mmax_iters\u001b[0m\u001b[0;34m=\u001b[0m\u001b[0;36m2500\u001b[0m\u001b[0;34m,\u001b[0m \u001b[0meps\u001b[0m\u001b[0;34m=\u001b[0m\u001b[0;36m0.000000000001\u001b[0m\u001b[0;34m)\u001b[0m\u001b[0;34m\u001b[0m\u001b[0;34m\u001b[0m\u001b[0m\n\u001b[0m\u001b[1;32m     24\u001b[0m     \u001b[0;32mreturn\u001b[0m \u001b[0mn\u001b[0m\u001b[0;34m.\u001b[0m\u001b[0mvalue\u001b[0m\u001b[0;34m,\u001b[0m \u001b[0mprob\u001b[0m\u001b[0;34m\u001b[0m\u001b[0;34m\u001b[0m\u001b[0m\n\u001b[1;32m     25\u001b[0m \u001b[0;34m\u001b[0m\u001b[0m\n",
            "\u001b[0;32m/usr/local/lib/python3.7/dist-packages/cvxpy/problems/problem.py\u001b[0m in \u001b[0;36msolve\u001b[0;34m(self, *args, **kwargs)\u001b[0m\n\u001b[1;32m    288\u001b[0m         \u001b[0;32melse\u001b[0m\u001b[0;34m:\u001b[0m\u001b[0;34m\u001b[0m\u001b[0;34m\u001b[0m\u001b[0m\n\u001b[1;32m    289\u001b[0m             \u001b[0msolve_func\u001b[0m \u001b[0;34m=\u001b[0m \u001b[0mProblem\u001b[0m\u001b[0;34m.\u001b[0m\u001b[0m_solve\u001b[0m\u001b[0;34m\u001b[0m\u001b[0;34m\u001b[0m\u001b[0m\n\u001b[0;32m--> 290\u001b[0;31m         \u001b[0;32mreturn\u001b[0m \u001b[0msolve_func\u001b[0m\u001b[0;34m(\u001b[0m\u001b[0mself\u001b[0m\u001b[0;34m,\u001b[0m \u001b[0;34m*\u001b[0m\u001b[0margs\u001b[0m\u001b[0;34m,\u001b[0m \u001b[0;34m**\u001b[0m\u001b[0mkwargs\u001b[0m\u001b[0;34m)\u001b[0m\u001b[0;34m\u001b[0m\u001b[0;34m\u001b[0m\u001b[0m\n\u001b[0m\u001b[1;32m    291\u001b[0m \u001b[0;34m\u001b[0m\u001b[0m\n\u001b[1;32m    292\u001b[0m     \u001b[0;34m@\u001b[0m\u001b[0mclassmethod\u001b[0m\u001b[0;34m\u001b[0m\u001b[0;34m\u001b[0m\u001b[0m\n",
            "\u001b[0;32m/usr/local/lib/python3.7/dist-packages/cvxpy/problems/problem.py\u001b[0m in \u001b[0;36m_solve\u001b[0;34m(self, solver, warm_start, verbose, parallel, gp, qcp, **kwargs)\u001b[0m\n\u001b[1;32m    573\u001b[0m         \u001b[0mfull_chain\u001b[0m \u001b[0;34m=\u001b[0m \u001b[0mself\u001b[0m\u001b[0;34m.\u001b[0m\u001b[0m_solving_chain\u001b[0m\u001b[0;34m.\u001b[0m\u001b[0mprepend\u001b[0m\u001b[0;34m(\u001b[0m\u001b[0mself\u001b[0m\u001b[0;34m.\u001b[0m\u001b[0m_intermediate_chain\u001b[0m\u001b[0;34m)\u001b[0m\u001b[0;34m\u001b[0m\u001b[0;34m\u001b[0m\u001b[0m\n\u001b[1;32m    574\u001b[0m         \u001b[0minverse_data\u001b[0m \u001b[0;34m=\u001b[0m \u001b[0mself\u001b[0m\u001b[0;34m.\u001b[0m\u001b[0m_intermediate_inverse_data\u001b[0m \u001b[0;34m+\u001b[0m \u001b[0msolving_inverse_data\u001b[0m\u001b[0;34m\u001b[0m\u001b[0;34m\u001b[0m\u001b[0m\n\u001b[0;32m--> 575\u001b[0;31m         \u001b[0mself\u001b[0m\u001b[0;34m.\u001b[0m\u001b[0munpack_results\u001b[0m\u001b[0;34m(\u001b[0m\u001b[0msolution\u001b[0m\u001b[0;34m,\u001b[0m \u001b[0mfull_chain\u001b[0m\u001b[0;34m,\u001b[0m \u001b[0minverse_data\u001b[0m\u001b[0;34m)\u001b[0m\u001b[0;34m\u001b[0m\u001b[0;34m\u001b[0m\u001b[0m\n\u001b[0m\u001b[1;32m    576\u001b[0m         \u001b[0;32mreturn\u001b[0m \u001b[0mself\u001b[0m\u001b[0;34m.\u001b[0m\u001b[0mvalue\u001b[0m\u001b[0;34m\u001b[0m\u001b[0;34m\u001b[0m\u001b[0m\n\u001b[1;32m    577\u001b[0m \u001b[0;34m\u001b[0m\u001b[0m\n",
            "\u001b[0;32m/usr/local/lib/python3.7/dist-packages/cvxpy/problems/problem.py\u001b[0m in \u001b[0;36munpack_results\u001b[0;34m(self, solution, chain, inverse_data)\u001b[0m\n\u001b[1;32m    716\u001b[0m             raise error.SolverError(\n\u001b[1;32m    717\u001b[0m                     \u001b[0;34m\"Solver '%s' failed. \"\u001b[0m \u001b[0;34m%\u001b[0m \u001b[0mchain\u001b[0m\u001b[0;34m.\u001b[0m\u001b[0msolver\u001b[0m\u001b[0;34m.\u001b[0m\u001b[0mname\u001b[0m\u001b[0;34m(\u001b[0m\u001b[0;34m)\u001b[0m \u001b[0;34m+\u001b[0m\u001b[0;34m\u001b[0m\u001b[0;34m\u001b[0m\u001b[0m\n\u001b[0;32m--> 718\u001b[0;31m                     \u001b[0;34m\"Try another solver, or solve with verbose=True for more \"\u001b[0m\u001b[0;34m\u001b[0m\u001b[0;34m\u001b[0m\u001b[0m\n\u001b[0m\u001b[1;32m    719\u001b[0m                     \"information.\")\n\u001b[1;32m    720\u001b[0m         \u001b[0mself\u001b[0m\u001b[0;34m.\u001b[0m\u001b[0munpack\u001b[0m\u001b[0;34m(\u001b[0m\u001b[0msolution\u001b[0m\u001b[0;34m)\u001b[0m\u001b[0;34m\u001b[0m\u001b[0;34m\u001b[0m\u001b[0m\n",
            "\u001b[0;31mSolverError\u001b[0m: Solver 'SCS' failed. Try another solver, or solve with verbose=True for more information."
          ]
        }
      ]
    },
    {
      "cell_type": "code",
      "metadata": {
        "id": "AFnuZdgyyC87"
      },
      "source": [
        ""
      ],
      "execution_count": null,
      "outputs": []
    },
    {
      "cell_type": "code",
      "metadata": {
        "id": "jvyHXeJl7z-O",
        "outputId": "00a59808-a71d-4675-94d1-2abbdae7b1bf"
      },
      "source": [
        "p"
      ],
      "execution_count": null,
      "outputs": [
        {
          "output_type": "execute_result",
          "data": {
            "text/plain": [
              "Problem(Minimize(Expression(CONVEX, NONNEGATIVE, ())), [Inequality(Expression(CONVEX, NONNEGATIVE, (98,))), Inequality(Constant(CONSTANT, ZERO, (98,))), Inequality(Variable((98,)))])"
            ]
          },
          "metadata": {
            "tags": []
          },
          "execution_count": 235
        }
      ]
    },
    {
      "cell_type": "code",
      "metadata": {
        "id": "wfEpCjxn7z-P",
        "outputId": "98bfa68d-0fd0-44f6-cd0f-e45fdb0d116a"
      },
      "source": [
        "m"
      ],
      "execution_count": null,
      "outputs": [
        {
          "output_type": "execute_result",
          "data": {
            "text/plain": [
              "0.4222222222222222"
            ]
          },
          "metadata": {
            "tags": []
          },
          "execution_count": 236
        }
      ]
    },
    {
      "cell_type": "code",
      "metadata": {
        "id": "oArsAaI-7z-P",
        "outputId": "4302ca62-61c5-4b81-9e7c-c8247c631d69"
      },
      "source": [
        "n2.value"
      ],
      "execution_count": null,
      "outputs": [
        {
          "output_type": "execute_result",
          "data": {
            "text/plain": [
              "array([ 1.30302e-03,  2.21356e+01,  7.00086e+01,  3.18686e+01,  7.40438e+00,  3.90863e+01,  5.95492e+01,  1.69584e+02,  1.50791e+02,  1.08792e+01,  6.71104e+00,  1.43083e+02,  1.79777e-04,  1.93067e-03,  1.28954e+02,  1.56759e+02,  3.70586e+01,  1.77533e+01,  1.53256e+02,  1.00525e+02,\n",
              "        2.36958e-03,  2.54338e+01,  1.40825e+02,  2.43105e-03,  9.03791e+00,  2.02826e+02,  1.70246e+01,  1.04949e-03,  1.11326e-03,  7.76105e+01,  1.25772e+02,  1.50687e+02,  1.19403e+02,  1.13841e+02,  2.98703e-03,  9.97283e+01,  3.03404e-05,  1.50621e-03,  6.56611e-04,  5.37388e+01,\n",
              "        1.85327e-03,  5.96033e+01,  6.39604e-04,  6.47171e+01,  8.12587e+01,  1.88525e+01,  1.26781e+02,  2.31374e+00,  2.37099e-03,  1.90476e-03,  8.06054e+01,  1.18828e+02,  3.53042e+01,  1.66719e+01,  1.47201e+01,  1.52429e+02,  8.01452e+01,  2.55886e+01,  1.46657e+02,  1.60764e+02,\n",
              "        1.74739e+01,  6.03649e+01, -2.77146e-06,  1.92430e-03,  1.13048e+02,  7.52965e-04,  1.36691e+02,  1.42823e+01,  1.08064e+02,  1.50885e+02,  1.10249e-03,  1.43768e-03,  1.11321e+02,  1.27005e+02,  2.07425e-03,  2.65221e+01,  1.86722e+01, -2.42438e-04,  1.35842e+02,  4.40362e+01,\n",
              "        1.82773e+02,  3.04775e+00,  2.37605e+01,  1.21687e+01, -1.81206e-04,  1.36684e+02,  6.37679e+01,  6.63928e+01,  6.27196e+01,  2.66852e-03,  1.58570e-03,  1.78898e+02,  3.31070e+01,  1.58447e+02,  1.08501e-03,  1.18064e-03,  1.23051e-03,  4.46000e-04])"
            ]
          },
          "metadata": {
            "tags": []
          },
          "execution_count": 238
        }
      ]
    },
    {
      "cell_type": "code",
      "metadata": {
        "id": "AUdTRGOo7z-P",
        "outputId": "f896bdb3-3ea5-4552-d374-b974d65f7df1"
      },
      "source": [
        "plt.matshow(cov_array/135)"
      ],
      "execution_count": null,
      "outputs": [
        {
          "output_type": "execute_result",
          "data": {
            "text/plain": [
              "<matplotlib.image.AxesImage at 0x12c1e38e0>"
            ]
          },
          "metadata": {
            "tags": []
          },
          "execution_count": 234
        },
        {
          "output_type": "display_data",
          "data": {
            "image/png": "[encoded data removed]",
            "text/plain": [
              "<Figure size 576x576 with 1 Axes>"
            ]
          },
          "metadata": {
            "tags": [],
            "needs_background": "light"
          }
        }
      ]
    },
    {
      "cell_type": "code",
      "metadata": {
        "id": "mLMGrEhK7z-Q"
      },
      "source": [
        "x1,x2,x3 = optimize_groupwise(cov_array/135, m, individually_rational=True)"
      ],
      "execution_count": null,
      "outputs": []
    },
    {
      "cell_type": "code",
      "metadata": {
        "id": "MQfIRr537z-Q"
      },
      "source": [
        ""
      ],
      "execution_count": null,
      "outputs": []
    },
    {
      "cell_type": "code",
      "metadata": {
        "id": "KHV8D6xd7z-Q",
        "outputId": "c2d4143c-847b-4837-9f4b-68b46048669d"
      },
      "source": [
        "np.max(np.abs(n.value-thets))"
      ],
      "execution_count": null,
      "outputs": [
        {
          "output_type": "execute_result",
          "data": {
            "text/plain": [
              "2.610061192322977"
            ]
          },
          "metadata": {
            "tags": []
          },
          "execution_count": 183
        }
      ]
    },
    {
      "cell_type": "code",
      "metadata": {
        "id": "qv11cQrK7z-R",
        "outputId": "55363288-d374-427f-b4c4-7e9f78d87556"
      },
      "source": [
        "n2.value-x1.value"
      ],
      "execution_count": null,
      "outputs": [
        {
          "output_type": "execute_result",
          "data": {
            "text/plain": [
              "array([ 7.38634e-04,  2.21348e+01,  7.00079e+01,  3.18680e+01,  7.40402e+00,  3.90856e+01,  5.95488e+01,  1.69584e+02,  1.50790e+02,  1.08788e+01,  6.71052e+00,  1.43082e+02, -1.28265e-04,  1.38016e-03,  1.28953e+02,  1.56758e+02,  3.70579e+01,  1.77529e+01,  1.53255e+02,  1.00524e+02,\n",
              "        2.20856e-03,  2.54334e+01,  1.40825e+02, -2.98645e+02,  9.03752e+00,  2.02825e+02,  1.70243e+01,  6.94952e-04,  1.03279e-03,  7.76098e+01,  1.25771e+02,  1.50687e+02,  1.19403e+02,  1.13840e+02,  2.75233e-03,  9.97277e+01, -5.09862e-04,  1.42211e-03,  2.25897e-04,  5.37381e+01,\n",
              "       -7.32821e+01,  5.96027e+01,  4.37699e-04,  6.47166e+01,  8.12579e+01,  1.88518e+01,  1.26780e+02,  2.31317e+00, -7.56203e+01,  1.86261e-03,  8.06048e+01,  1.18827e+02,  3.53037e+01,  1.66712e+01,  1.47194e+01,  1.52428e+02,  8.01444e+01,  2.55882e+01,  1.46656e+02,  1.60764e+02,\n",
              "        1.74737e+01,  6.03642e+01, -2.64457e-05,  1.64424e-03,  1.13047e+02,  3.95210e-04,  1.36690e+02,  1.42819e+01,  1.08063e+02,  1.50884e+02,  7.36399e-04, -1.99695e+01,  1.11320e+02,  1.27004e+02,  2.05286e-03,  2.65214e+01,  1.86719e+01, -4.43323e-04,  1.35841e+02,  4.40355e+01,\n",
              "        1.82772e+02,  3.04766e+00,  2.37599e+01,  1.21684e+01, -8.77631e-04,  1.36683e+02,  6.37672e+01,  6.63916e+01,  6.27188e+01, -2.42748e+00,  1.53585e-03,  1.78897e+02,  3.31066e+01,  1.58446e+02,  8.55436e-04,  7.80172e-04,  1.13400e-03,  3.22147e-04])"
            ]
          },
          "metadata": {
            "tags": []
          },
          "execution_count": 244
        }
      ]
    },
    {
      "cell_type": "code",
      "metadata": {
        "id": "8tHFyGnW7z-R"
      },
      "source": [
        ""
      ],
      "execution_count": null,
      "outputs": []
    },
    {
      "cell_type": "code",
      "metadata": {
        "id": "vk7Z4u2l7z-R"
      },
      "source": [
        ""
      ],
      "execution_count": null,
      "outputs": []
    },
    {
      "cell_type": "code",
      "metadata": {
        "id": "zF2lJ5z47z-R"
      },
      "source": [
        "def optimize_groupwise(membership_matrix, mu, individually_rational=False):\n",
        "    d,K,b,membership_matrix = gen_params(membership_matrix)\n",
        "    n = cvx.Variable(K)\n",
        "    a = np.ones(K)\n",
        "    B = membership_matrix\n",
        "    constraints = [B.T@(cvx.exp(cvx.log(1-1.0/b)*B@n))<= mu*a]\n",
        "    constraints += [n >= np.zeros(K)] \n",
        "    if individually_rational:\n",
        "        x_ir_values, _ = naive_solution(membership_matrix, mu)\n",
        "        constraints += [ n <= x_ir_values ]\n",
        "    else:\n",
        "        pass\n",
        "    prob = cvx.Problem(cvx.Minimize(cvx.norm(n, 1)),constraints)    \n",
        "    prob.solve(solver=cvx.SCS, verbose=False, max_iters=2500, eps=0.000000000001)\n",
        "    return n, prob, mu"
      ],
      "execution_count": null,
      "outputs": []
    },
    {
      "cell_type": "code",
      "metadata": {
        "id": "87yLDkAm7z-S"
      },
      "source": [
        ""
      ],
      "execution_count": null,
      "outputs": []
    },
    {
      "cell_type": "code",
      "metadata": {
        "colab": {
          "base_uri": "https://localhost:8080/",
          "height": 515
        },
        "id": "8sbXOKc57z-S",
        "outputId": "db158eb5-5156-472a-8d61-0c3a4569ea31"
      },
      "source": [
        "cov_array = np.zeros((k,k))\n",
        "for point in range(size):  \n",
        "  for i in range(k):\n",
        "    for j in range(k):\n",
        "        if membership_array[point, i] and membership_array[point, j]:\n",
        "            cov_array[i,j] += 1\n",
        "plt.matshow(cov_array)"
      ],
      "execution_count": null,
      "outputs": [
        {
          "output_type": "execute_result",
          "data": {
            "text/plain": [
              "<matplotlib.image.AxesImage at 0x7fe13cca4250>"
            ]
          },
          "metadata": {
            "tags": []
          },
          "execution_count": 152
        },
        {
          "output_type": "display_data",
          "data": {
            "image/png": "[encoded data removed]",
            "text/plain": [
              "<Figure size 576x576 with 1 Axes>"
            ]
          },
          "metadata": {
            "tags": [],
            "needs_background": "light"
          }
        }
      ]
    },
    {
      "cell_type": "code",
      "metadata": {
        "colab": {
          "base_uri": "https://localhost:8080/",
          "height": 232
        },
        "id": "4NcquhGf7z-S",
        "outputId": "b41aaf7a-8cc6-4455-8502-7e9195900f0a"
      },
      "source": [
        "#Optimization procedure\n",
        "B = membership_array\n",
        "# this is hte individualized version\n",
        "# mu = .01\n",
        "a = np.ones(k)\n",
        "for i in range(np.mean(B, axis=1).__len__()):\n",
        "    if np.mean(B, axis=1)[i]==0:\n",
        "        a[i] = 2/mu\n",
        "n = cvx.Variable(k)\n",
        "\n",
        "constraints = [B.T@(cvx.exp(cvx.log(1-1.0/b)*B@n))<= mu*a]\n",
        "\n",
        "constraints += [n >= np.zeros(k)]  \n",
        "prob = cvx.Problem(cvx.Minimize(cvx.pnorm(n, 1)),constraints)    \n",
        "prob.solve(solver=cvx.SCS, max_iters=25000, eps=0.00000001, verbose=False)\n",
        "\n",
        "i = 0\n",
        "thets = np.zeros(k)\n",
        "while np.min(B.T@np.exp(np.log(1-1.0/b)*B@thets)) > mu:\n",
        "    mindex = np.argmax(B.T@np.exp(np.log(1-1.0/b)*B@thets))\n",
        "    thets[mindex] += 1\n",
        "    i += 1\n",
        "np.max(np.abs(n.value-thets))\n",
        "\n",
        "\n",
        "print(\"\\nThe optimal value for sum is {} when $\\mu=${}\".format(prob.value, mu))\n",
        "print(\"A solution n is\")\n",
        "print(n.value)\n",
        "print(\"A dual solution corresponding to the inequality constraints is\")\n",
        "# print(prob.constraints[0].dual_value)\n",
        "# print(\"The solution bounds are here\")\n",
        "# print(B.T@(np.exp(np.log(1-1.0/b)*B@n.value)))"
      ],
      "execution_count": null,
      "outputs": [
        {
          "output_type": "error",
          "ename": "NameError",
          "evalue": "ignored",
          "traceback": [
            "\u001b[0;31m---------------------------------------------------------------------------\u001b[0m",
            "\u001b[0;31mNameError\u001b[0m                                 Traceback (most recent call last)",
            "\u001b[0;32m<ipython-input-13-fc657b21b74a>\u001b[0m in \u001b[0;36m<module>\u001b[0;34m()\u001b[0m\n\u001b[1;32m      1\u001b[0m \u001b[0;31m#Optimization procedure\u001b[0m\u001b[0;34m\u001b[0m\u001b[0;34m\u001b[0m\u001b[0;34m\u001b[0m\u001b[0m\n\u001b[0;32m----> 2\u001b[0;31m \u001b[0mB\u001b[0m \u001b[0;34m=\u001b[0m \u001b[0mmembership_array\u001b[0m\u001b[0;34m\u001b[0m\u001b[0;34m\u001b[0m\u001b[0m\n\u001b[0m\u001b[1;32m      3\u001b[0m \u001b[0;31m# this is hte individualized version\u001b[0m\u001b[0;34m\u001b[0m\u001b[0;34m\u001b[0m\u001b[0;34m\u001b[0m\u001b[0m\n\u001b[1;32m      4\u001b[0m \u001b[0;31m# mu = .01\u001b[0m\u001b[0;34m\u001b[0m\u001b[0;34m\u001b[0m\u001b[0;34m\u001b[0m\u001b[0m\n\u001b[1;32m      5\u001b[0m \u001b[0ma\u001b[0m \u001b[0;34m=\u001b[0m \u001b[0mnp\u001b[0m\u001b[0;34m.\u001b[0m\u001b[0mones\u001b[0m\u001b[0;34m(\u001b[0m\u001b[0mk\u001b[0m\u001b[0;34m)\u001b[0m\u001b[0;34m\u001b[0m\u001b[0;34m\u001b[0m\u001b[0m\n",
            "\u001b[0;31mNameError\u001b[0m: name 'membership_array' is not defined"
          ]
        }
      ]
    },
    {
      "cell_type": "code",
      "metadata": {
        "id": "-aH_olfZ7z-T"
      },
      "source": [
        ""
      ],
      "execution_count": null,
      "outputs": []
    },
    {
      "cell_type": "code",
      "metadata": {
        "id": "qExMa1Rq7z-T",
        "outputId": "0d089720-107e-4b18-f91e-0e37c95cb1d7"
      },
      "source": [
        ""
      ],
      "execution_count": null,
      "outputs": [
        {
          "output_type": "execute_result",
          "data": {
            "text/plain": [
              "1.5557136839600965"
            ]
          },
          "metadata": {
            "tags": []
          },
          "execution_count": 159
        }
      ]
    },
    {
      "cell_type": "code",
      "metadata": {
        "id": "hzl4epPW7z-T",
        "outputId": "9c62074d-58ba-447d-c5d4-2fa3dd3e3ab7"
      },
      "source": [
        "plt.plot(n.value-thets)\n",
        "plt.show()"
      ],
      "execution_count": null,
      "outputs": [
        {
          "output_type": "display_data",
          "data": {
            "image/png": "[encoded data removed]",
            "text/plain": [
              "<Figure size 576x576 with 1 Axes>"
            ]
          },
          "metadata": {
            "tags": [],
            "needs_background": "light"
          }
        }
      ]
    },
    {
      "cell_type": "code",
      "metadata": {
        "id": "l5SFOhfv7z-U"
      },
      "source": [
        ""
      ],
      "execution_count": null,
      "outputs": []
    },
    {
      "cell_type": "code",
      "metadata": {
        "id": "fI9Cn9zI7z-U"
      },
      "source": [
        ""
      ],
      "execution_count": null,
      "outputs": []
    },
    {
      "cell_type": "code",
      "metadata": {
        "id": "27tirFay7z-U"
      },
      "source": [
        "def gen_params(membership_matrix):\n",
        "    \"\"\"A function that describes our membership matrix\"\"\"\n",
        "    (d, K) = np.shape(membership_matrix)\n",
        "    # The number of points in each distribution\n",
        "    b = np.sum(membership_matrix, axis = 0)\n",
        "    b = np.max(b)\n",
        "    return d,K,b,membership_matrix"
      ],
      "execution_count": null,
      "outputs": []
    },
    {
      "cell_type": "code",
      "metadata": {
        "id": "KnjBevJ_7z-U"
      },
      "source": [
        ""
      ],
      "execution_count": null,
      "outputs": []
    },
    {
      "cell_type": "code",
      "metadata": {
        "id": "CCrOIGVC7z-U"
      },
      "source": [
        "# Initializing parameters\n",
        "d,K,b,membership_matrix = gen_params(examples[ \"Flower and Bud\"])"
      ],
      "execution_count": null,
      "outputs": []
    },
    {
      "cell_type": "code",
      "metadata": {
        "id": "E4igh8gi7z-V"
      },
      "source": [
        "#Quality of life rounding\n",
        "np.set_printoptions(linewidth=300, precision=5)"
      ],
      "execution_count": null,
      "outputs": []
    },
    {
      "cell_type": "code",
      "metadata": {
        "colab": {
          "base_uri": "https://localhost:8080/",
          "height": 961
        },
        "id": "ujvd-eo77z-V",
        "outputId": "c2e4a311-c0e6-4f28-8a39-7f3b0a2b7813"
      },
      "source": [
        "plt.matshow(B)"
      ],
      "execution_count": null,
      "outputs": [
        {
          "output_type": "execute_result",
          "data": {
            "text/plain": [
              "<matplotlib.image.AxesImage at 0x7fe143e22dd0>"
            ]
          },
          "metadata": {
            "tags": []
          },
          "execution_count": 17
        },
        {
          "output_type": "display_data",
          "data": {
            "image/png": "[encoded data removed]",
            "text/plain": [
              "<Figure size 288x1152 with 1 Axes>"
            ]
          },
          "metadata": {
            "tags": [],
            "needs_background": "light"
          }
        }
      ]
    },
    {
      "cell_type": "code",
      "metadata": {
        "colab": {
          "base_uri": "https://localhost:8080/"
        },
        "id": "GZGnpsxv7z-V",
        "outputId": "3f48e609-fa62-4b8b-b8a6-5bceb985c24d"
      },
      "source": [
        "#Optimization procedure\n",
        "B = membership_matrix\n",
        "# this is hte individualized version\n",
        "mu = .01\n",
        "a = np.ones(K)\n",
        "for i in range(np.mean(B, axis=1).__len__()):\n",
        "    if np.mean(B, axis=1)[i]==0:\n",
        "        a[i] = 2/mu\n",
        "n = cvx.Variable(K)\n",
        "\n",
        "constraints = [B.T@(cvx.exp(cvx.log(1-1.0/b)*B@n))<= mu*a]\n",
        "\n",
        "constraints += [n >= np.zeros(K)]  \n",
        "prob = cvx.Problem(cvx.Minimize(cvx.pnorm(n, 1)),constraints)    \n",
        "prob.solve(solver=cvx.SCS, max_iters=25000, eps=0.00000001, verbose=False)\n",
        "print(\"\\nThe optimal value for sum is {} when $\\mu=${}\".format(prob.value, mu))\n",
        "print(\"A solution n is\")\n",
        "print(n.value)\n",
        "print(\"A dual solution corresponding to the inequality constraints is\")\n",
        "print(prob.constraints[0].dual_value)\n",
        "print(\"The solution bounds are here\")\n",
        "print(B.T@(np.exp(np.log(1-1.0/b)*B@n.value)))"
      ],
      "execution_count": null,
      "outputs": [
        {
          "output_type": "stream",
          "text": [
            "\n",
            "The optimal value for sum is 201.8874974250602 when $\\mu=$0.01\n",
            "A solution n is\n",
            "[-5.61607e-11  5.04719e+01  5.04719e+01  5.04719e+01  5.04719e+01 -5.59875e-11]\n",
            "A dual solution corresponding to the inequality constraints is\n",
            "[  0.      931.20792 931.20792 931.20792 931.20792   0.     ]\n",
            "The solution bounds are here\n",
            "[0.00019 0.01    0.01    0.01    0.01    0.00019]\n"
          ],
          "name": "stdout"
        }
      ]
    },
    {
      "cell_type": "code",
      "metadata": {
        "id": "IOwFDvsp7z-W",
        "outputId": "75a9e45e-856b-4ae7-f6ca-162ee04a87e5"
      },
      "source": [
        "(3.44875e+01*4)/0.8"
      ],
      "execution_count": null,
      "outputs": [
        {
          "output_type": "execute_result",
          "data": {
            "text/plain": [
              "172.43749999999997"
            ]
          },
          "metadata": {
            "tags": []
          },
          "execution_count": 37
        }
      ]
    },
    {
      "cell_type": "code",
      "metadata": {
        "id": "UZ-bJrmK7z-W"
      },
      "source": [
        "i = 0\n",
        "thets = np.zeros(K)\n",
        "while np.min(B.T@np.exp(np.log(1-1.0/b)*B@thets)) > mu:\n",
        "    mindex = np.argmax(B.T@np.exp(np.log(1-1.0/b)*B@thets))\n",
        "    thets[mindex] += 1\n",
        "    i += 1"
      ],
      "execution_count": null,
      "outputs": []
    },
    {
      "cell_type": "code",
      "metadata": {
        "id": "iyuPO2SN7z-W",
        "outputId": "2f3ad4f8-1b82-4c3d-e99d-f0dee809fd98"
      },
      "source": [
        "thets"
      ],
      "execution_count": null,
      "outputs": [
        {
          "output_type": "execute_result",
          "data": {
            "text/plain": [
              "array([ 0., 32., 32., 31., 32.,  0.])"
            ]
          },
          "metadata": {
            "tags": []
          },
          "execution_count": 101
        }
      ]
    },
    {
      "cell_type": "code",
      "metadata": {
        "id": "euxjZ2SQ7z-W",
        "outputId": "d3965798-84b0-4a30-b6e0-09482a33ead7"
      },
      "source": [
        "np.exp(np.log(1-1.0/b)*B@thets)"
      ],
      "execution_count": null,
      "outputs": [
        {
          "output_type": "execute_result",
          "data": {
            "text/plain": [
              "array([0.0011, 0.0011, 0.0011, 1.    , 1.    , 1.    , 1.    , 0.0011, 1.    , 1.    , 1.    , 1.    , 0.0011, 0.0011, 0.0011, 0.0011, 1.    , 1.    , 1.    , 1.    , 1.    , 1.    , 1.    , 1.    ])"
            ]
          },
          "metadata": {
            "tags": []
          },
          "execution_count": 73
        }
      ]
    },
    {
      "cell_type": "code",
      "metadata": {
        "id": "8SRGxOE47z-X"
      },
      "source": [
        ""
      ],
      "execution_count": null,
      "outputs": []
    },
    {
      "cell_type": "markdown",
      "metadata": {
        "id": "srNUIkTQ7z-X"
      },
      "source": [
        "# Groupwise (Distribution Optimization)"
      ]
    },
    {
      "cell_type": "code",
      "metadata": {
        "id": "DmMd2R8q7z-X"
      },
      "source": [
        "# Useful helper functions\n",
        "def reformat_B(membership_matrix):\n",
        "    \"\"\"Reformat b to simulate distributions not learning collaboratively\"\"\"\n",
        "    reformatted_matrix = []\n",
        "    for row in membership_matrix:\n",
        "        for idx, point, in enumerate(row):\n",
        "            if point:\n",
        "                local_arr = np.zeros(membership_matrix.shape[1])\n",
        "                local_arr[idx] = 1\n",
        "                reformatted_matrix.append(local_arr)\n",
        "    return np.array(reformatted_matrix)\n",
        "\n",
        "\n",
        "\n",
        "def naive_solution(membership_matrix, mu):\n",
        "    \"\"\"Calculate the costs for the non-collaborative version\"\"\"\n",
        "    d,K,b,membership_matrix = gen_params(membership_matrix)\n",
        "    B = reformat_B(membership_matrix)\n",
        "    a = np.ones(K)\n",
        "    n = cvx.Variable(K)\n",
        "    constraints = [B.T@(cvx.exp(cvx.log(1-1.0/b)*B@n))<= mu*a]\n",
        "    prob = cvx.Problem(cvx.Minimize(cvx.norm(n, 1)),constraints)    \n",
        "    prob.solve(solver=cvx.SCS, verbose=False, max_iters=2500, eps=0.000000000001)\n",
        "    return n.value, prob\n",
        "\n",
        "\n",
        "    \n",
        "\n",
        "def optimize_groupwise(membership_matrix, mu, individually_rational=False):\n",
        "    d,K,b,membership_matrix = gen_params(membership_matrix)\n",
        "    n = cvx.Variable(K)\n",
        "    a = np.ones(K)\n",
        "    B = membership_matrix\n",
        "    constraints = [B.T@(cvx.exp(cvx.log(1-1.0/b)*B@n))<= mu*a]\n",
        "    constraints += [n >= np.zeros(K)] \n",
        "    if individually_rational:\n",
        "        x_ir_values, _ = naive_solution(membership_matrix, mu)\n",
        "        constraints += [ n <= x_ir_values ]\n",
        "    else:\n",
        "        pass\n",
        "    prob = cvx.Problem(cvx.Minimize(cvx.norm(n, 1)),constraints)    \n",
        "    prob.solve(solver=cvx.SCS, verbose=False, max_iters=2500, eps=0.000000000001)\n",
        "    return n, prob, mu"
      ],
      "execution_count": null,
      "outputs": []
    },
    {
      "cell_type": "code",
      "metadata": {
        "id": "4KXxO0d07z-X"
      },
      "source": [
        "def optimize_groupwise(membership_matrix, mu, individually_rational=False):\n",
        "    d,K,b,membership_matrix = gen_params(membership_matrix)\n",
        "    n = cvx.Variable(K)\n",
        "    a = np.ones(K)\n",
        "    B = membership_matrix\n",
        "    constraints = [B.T@(cvx.exp(cvx.log(1-1.0/b)*B@n))<= mu*a]\n",
        "    constraints += [n >= np.zeros(K)] \n",
        "    if individually_rational:\n",
        "        x_ir_values, _ = naive_solution(membership_matrix, mu)\n",
        "        constraints += [ n <= x_ir_values ]\n",
        "    else:\n",
        "        pass\n",
        "    prob = cvx.Problem(cvx.Minimize(cvx.norm(n, 1)),constraints)    \n",
        "    prob.solve(solver=cvx.SCS, verbose=False, max_iters=2500, eps=0.000000000001)\n",
        "    return n, prob, mu"
      ],
      "execution_count": null,
      "outputs": []
    },
    {
      "cell_type": "code",
      "metadata": {
        "colab": {
          "base_uri": "https://localhost:8080/"
        },
        "id": "pMfuHRdf7z-Y",
        "outputId": "0a8ea397-44bf-477a-a304-283044afb1d4"
      },
      "source": [
        "B2 = reformat_B(B)\n",
        "n, prob, mu = optimize_groupwise(B2, 7, individually_rational=False)\n",
        "print(n.value)\n",
        "print(prob.constraints[0].dual_value)\n",
        "print(B2.T@(np.exp(np.log(1-1.0/b)*B2@n.value)))"
      ],
      "execution_count": null,
      "outputs": [
        {
          "output_type": "stream",
          "text": [
            "[1.26738 3.38528 3.38528 3.38528 3.38528 1.26738]\n",
            "[1.35589 1.35589 1.35589 1.35589 1.35589 1.35589]\n",
            "[7. 7. 7. 7. 7. 7.]\n"
          ],
          "name": "stdout"
        }
      ]
    },
    {
      "cell_type": "code",
      "metadata": {
        "id": "HTpeg0gw7z-Y"
      },
      "source": [
        ""
      ],
      "execution_count": null,
      "outputs": []
    },
    {
      "cell_type": "code",
      "metadata": {
        "id": "fXhyeYye7z-Y"
      },
      "source": [
        ""
      ],
      "execution_count": null,
      "outputs": []
    },
    {
      "cell_type": "code",
      "metadata": {
        "colab": {
          "base_uri": "https://localhost:8080/"
        },
        "id": "7wfhOBQp7z-Y",
        "outputId": "247c076f-2316-4c99-bc80-a03c7ca1f7b1"
      },
      "source": [
        "B2 = reformat_B(B)\n",
        "n, prob, mu = optimize_groupwise(B2, 6)\n",
        "print(n.value)\n",
        "print(prob.constraints[0].dual_value)\n",
        "print(B2.T@(np.exp(np.log(1-1.0/b)*B2@n.value)))"
      ],
      "execution_count": null,
      "outputs": [
        {
          "output_type": "stream",
          "text": [
            "[2.73045 4.84836 4.84836 4.84836 4.84836 2.73045]\n",
            "[1.58187 1.58187 1.58187 1.58187 1.58187 1.58187]\n",
            "[6. 6. 6. 6. 6. 6.]\n"
          ],
          "name": "stdout"
        }
      ]
    },
    {
      "cell_type": "code",
      "metadata": {
        "id": "Z1UZ-_4N7z-Z"
      },
      "source": [
        "# n, prob, mu = optimize_groupwise(examples[ \"Sunflower\"],6, individually_rational=True)\n",
        "# d,K,b,B = gen_params(examples[\"Sunflower\"])\n",
        "\n",
        "\n",
        "n, prob, mu = optimize_groupwise(examples[\"Flower and Bud\"],6, individually_rational=False)\n",
        "d,K,b,B = gen_params(examples[ \"Flower and Bud\"])"
      ],
      "execution_count": null,
      "outputs": []
    },
    {
      "cell_type": "code",
      "metadata": {
        "colab": {
          "base_uri": "https://localhost:8080/"
        },
        "id": "JE2cMUeM7z-Z",
        "outputId": "fd1182bc-b06f-4a5e-b8bb-7f06427bfa54"
      },
      "source": [
        "print(\"\\nThe optimal value for sum is {} when $\\mu=${}\".format(prob.value, mu))\n",
        "print(\"A solution n is\")\n",
        "print(n.value)\n",
        "print(\"A dual solution corresponding to the inequality constraints is\")\n",
        "print(prob.constraints[0].dual_value)\n",
        "print(\"The solution bounds are here\")\n",
        "print(B.T@(np.exp(np.log(1-1.0/b)*B@n.value)))"
      ],
      "execution_count": null,
      "outputs": [
        {
          "output_type": "stream",
          "text": [
            "\n",
            "The optimal value for sum is 10.92181717595611 when $\\mu=$6\n",
            "A solution n is\n",
            "[-2.59974e-11  2.73045e+00  2.73045e+00  2.73045e+00  2.73045e+00 -4.25602e-11]\n",
            "A dual solution corresponding to the inequality constraints is\n",
            "[0.      0.90393 0.90393 0.90393 0.90393 0.     ]\n",
            "The solution bounds are here\n",
            "[4.5 6.  6.  6.  6.  4.5]\n"
          ],
          "name": "stdout"
        }
      ]
    },
    {
      "cell_type": "code",
      "metadata": {
        "id": "aW9JdsFz7z-Z"
      },
      "source": [
        "def get_envy(B,b, n, mu, with_idx=False):\n",
        "    \"\"\"This function takes the membership matrix, number of points in each dist, an allocation, and a mu \n",
        "    value to determine if any point envies any other\"\"\"\n",
        "    envies = []\n",
        "    idxs = []\n",
        "    # get all plausible pairs\n",
        "    swap_pairs = [] \n",
        "    for i in range(len(n)):\n",
        "        for j in range(len(n)):\n",
        "            if n[i] - n[j] > n[i]/1000.0 and i!=j:\n",
        "                # I might want to swap with J\n",
        "                swap_pairs.append((i,j))\n",
        "    max_envies = {i:0 for i in range(len(n))}\n",
        "    for i,j in swap_pairs:\n",
        "        n_fake = copy.deepcopy(n)      \n",
        "        if False: \n",
        "            pass # They wouldn't do this anyway\n",
        "            return 'no envy'\n",
        "        else:\n",
        "            \n",
        "            n_fake[i] = n[j]\n",
        "            n_fake[j] = n[i]\n",
        "            new_vals = B.T@(np.exp(np.log(1-1.0/b)*B@n_fake))\n",
        "            if any(new_vals > (mu)) and not (new_vals > mu)[i]:\n",
        "                    print(i,j)\n",
        "                    print(n[i],n[j])\n",
        "                    print(new_vals)\n",
        "            if any(new_vals > (mu)) and not (new_vals > mu)[i]:\n",
        "                print('\\n\\n')\n",
        "                print('current alloc', n)\n",
        "                print(\"But {} envies {}\".format(i,j))\n",
        "                print('proposed', n_fake)\n",
        "                print('proposed constraint vals', new_vals)\n",
        "                dissatisfaction_vect = new_vals > mu\n",
        "\n",
        "                # They are satisfied with the swap\n",
        "                envies.append(np.max(new_vals)/mu)\n",
        "                if with_idx:\n",
        "                    idxs.append(([idx for idx, l in enumerate(dissatisfaction_vect) if l], (i,j)))\n",
        "                    print(new_vals)\n",
        "    if with_idx:\n",
        "        return envies, idxs\n",
        "    return envies"
      ],
      "execution_count": null,
      "outputs": []
    },
    {
      "cell_type": "code",
      "metadata": {
        "scrolled": true,
        "colab": {
          "base_uri": "https://localhost:8080/"
        },
        "id": "7drTazdo7z-Z",
        "outputId": "e090ffd2-2f3c-4e05-9ffc-b41e7e6867a0"
      },
      "source": [
        "get_envy(B,b, n.value, 6)"
      ],
      "execution_count": null,
      "outputs": [
        {
          "output_type": "stream",
          "text": [
            "0 5\n",
            "-2.5997440241851393e-11 -4.256019046311926e-11\n",
            "[4.5 6.  6.  6.  6.  4.5]\n",
            "\n",
            "\n",
            "\n",
            "current alloc [-2.59974e-11  2.73045e+00  2.73045e+00  2.73045e+00  2.73045e+00 -4.25602e-11]\n",
            "But 0 envies 5\n",
            "proposed [-4.25602e-11  2.73045e+00  2.73045e+00  2.73045e+00  2.73045e+00 -2.59974e-11]\n",
            "proposed constraint vals [4.5 6.  6.  6.  6.  4.5]\n"
          ],
          "name": "stdout"
        },
        {
          "output_type": "execute_result",
          "data": {
            "text/plain": [
              "[1.0000000004391263]"
            ]
          },
          "metadata": {
            "tags": []
          },
          "execution_count": 26
        }
      ]
    },
    {
      "cell_type": "code",
      "metadata": {
        "id": "FRliR_z47z-a"
      },
      "source": [
        ""
      ],
      "execution_count": null,
      "outputs": []
    },
    {
      "cell_type": "code",
      "metadata": {
        "id": "Jknmtyqp7z-a"
      },
      "source": [
        ""
      ],
      "execution_count": null,
      "outputs": []
    },
    {
      "cell_type": "code",
      "metadata": {
        "id": "hozC1AaH7z-b"
      },
      "source": [
        "import numpy as np\n",
        "# import cvxopt as cvx\n",
        "import cvxpy as cp\n"
      ],
      "execution_count": null,
      "outputs": []
    },
    {
      "cell_type": "code",
      "metadata": {
        "id": "56wLsZts7z-b"
      },
      "source": [
        "# from scipy import linalg, stats, random\n",
        "from scipy.sparse import random\n",
        "\n",
        "\n",
        "k = 5\n",
        "from scipy.sparse import random\n",
        "A=random(k,k, density=.6).todense()\n",
        "B = np.dot(A,A.transpose())"
      ],
      "execution_count": null,
      "outputs": []
    },
    {
      "cell_type": "code",
      "metadata": {
        "id": "L23FiIeN7z-b"
      },
      "source": [
        "Q = np.zeros((16, k))\n",
        "for i in range(16):\n",
        "  for j in range(k):\n",
        "    if np.random.rand() <= 0.8:\n",
        "        Q[i, j]  = 1"
      ],
      "execution_count": null,
      "outputs": []
    },
    {
      "cell_type": "code",
      "metadata": {
        "id": "dYZtGLl57z-b"
      },
      "source": [
        "B = np.corrcoef(Q.T)"
      ],
      "execution_count": null,
      "outputs": []
    },
    {
      "cell_type": "code",
      "metadata": {
        "id": "7UiQDSdf7z-b"
      },
      "source": [
        "B = B/np.max(B)\n",
        "np.fill_diagonal(B, 1)"
      ],
      "execution_count": null,
      "outputs": []
    },
    {
      "cell_type": "code",
      "metadata": {
        "colab": {
          "base_uri": "https://localhost:8080/"
        },
        "id": "JwxRsuQe7z-b",
        "outputId": "456498c3-3172-466f-e0c6-db2d89290e9b"
      },
      "source": [
        "k"
      ],
      "execution_count": null,
      "outputs": [
        {
          "output_type": "execute_result",
          "data": {
            "text/plain": [
              "5"
            ]
          },
          "metadata": {
            "tags": []
          },
          "execution_count": 32
        }
      ]
    },
    {
      "cell_type": "code",
      "metadata": {
        "id": "dX0wAR6f7z-c"
      },
      "source": [
        "theta = np.array([2, 2,2,2,2])\n",
        "theta2 = np.array([0, 2,2,2,2])"
      ],
      "execution_count": null,
      "outputs": []
    },
    {
      "cell_type": "code",
      "metadata": {
        "colab": {
          "base_uri": "https://localhost:8080/"
        },
        "id": "qOYok7K17z-c",
        "outputId": "d84cceb9-99e7-4fb4-8cff-b7d764db4944"
      },
      "source": [
        "mus = np.ones(k)*4\n",
        "\n",
        "\n",
        "X = cp.Variable((k,k), symmetric=True)\n",
        "constraints = [X >= 0]\n",
        "# constraints += [X << 1.001]\n",
        "constraints += [cp.sum(cp.diag(X)) == 5]\n",
        "constraints += [X.T@theta >= mus]\n",
        "constraints += [cp.quad_form(theta2, X) - mus@theta <= 0]\n",
        "\n",
        "\n",
        "prob=cp.Problem(cp.Minimize(cp.sum(X)), constraints)\n",
        "unconstrained_solutions = prob.solve()\n",
        "print('Unconstrained solution has value {}'.format(unconstrained_solutions))\n",
        "print(X.value @ theta)\n",
        "print(X.value)\n",
        "\n",
        "X = cp.Variable((k,k), symmetric=True)\n",
        "constraints = [X >= 0]\n",
        "# constraints += [X << 1]\n",
        "constraints += [cp.sum(cp.diag(X)) == 5]\n",
        "constraints += [X.T@theta >= mus]\n",
        "constraints += [cp.quad_form(theta, X) - mus@theta <= 0]\n",
        "\n",
        "prob=cp.Problem(cp.Minimize(cp.sum(X)), constraints)\n",
        "unconstrained_solutions = prob.solve()\n",
        "print('Constrained solution has value {}'.format(unconstrained_solutions))\n",
        "print(X.value @ theta)\n",
        "print(X.value)"
      ],
      "execution_count": null,
      "outputs": [
        {
          "output_type": "stream",
          "text": [
            "Unconstrained solution has value 9.999999997907329\n",
            "[4. 4. 4. 4. 4.]\n",
            "[[1.04942 0.23764 0.23764 0.23764 0.23764]\n",
            " [0.23764 0.98764 0.25824 0.25824 0.25824]\n",
            " [0.23764 0.25824 0.98764 0.25824 0.25824]\n",
            " [0.23764 0.25824 0.25824 0.98764 0.25824]\n",
            " [0.23764 0.25824 0.25824 0.25824 0.98764]]\n",
            "Constrained solution has value 9.999999999943086\n",
            "[4. 4. 4. 4. 4.]\n",
            "[[1.   0.25 0.25 0.25 0.25]\n",
            " [0.25 1.   0.25 0.25 0.25]\n",
            " [0.25 0.25 1.   0.25 0.25]\n",
            " [0.25 0.25 0.25 1.   0.25]\n",
            " [0.25 0.25 0.25 0.25 1.  ]]\n"
          ],
          "name": "stdout"
        }
      ]
    },
    {
      "cell_type": "code",
      "metadata": {
        "colab": {
          "base_uri": "https://localhost:8080/"
        },
        "id": "l1WW1CFu7z-c",
        "outputId": "6a5cd925-e529-432f-e345-1e8e341a355c"
      },
      "source": [
        "X.value @ theta"
      ],
      "execution_count": null,
      "outputs": [
        {
          "output_type": "execute_result",
          "data": {
            "text/plain": [
              "array([4., 4., 4., 4., 4.])"
            ]
          },
          "metadata": {
            "tags": []
          },
          "execution_count": 35
        }
      ]
    },
    {
      "cell_type": "code",
      "metadata": {
        "colab": {
          "base_uri": "https://localhost:8080/"
        },
        "id": "XRyg8Cxu7z-d",
        "outputId": "b05f6aa8-e0d1-4d5f-ed26-f8cce9251eb2"
      },
      "source": [
        "np.linalg.norm(X.value)"
      ],
      "execution_count": null,
      "outputs": [
        {
          "output_type": "execute_result",
          "data": {
            "text/plain": [
              "2.4999999999943103"
            ]
          },
          "metadata": {
            "tags": []
          },
          "execution_count": 36
        }
      ]
    },
    {
      "cell_type": "code",
      "metadata": {
        "colab": {
          "base_uri": "https://localhost:8080/"
        },
        "id": "bVSgIX2S7z-d",
        "outputId": "94f583ec-14bb-4c2c-cce1-9fa4a5910ae9"
      },
      "source": [
        "X.value"
      ],
      "execution_count": null,
      "outputs": [
        {
          "output_type": "execute_result",
          "data": {
            "text/plain": [
              "array([[1.  , 0.25, 0.25, 0.25, 0.25],\n",
              "       [0.25, 1.  , 0.25, 0.25, 0.25],\n",
              "       [0.25, 0.25, 1.  , 0.25, 0.25],\n",
              "       [0.25, 0.25, 0.25, 1.  , 0.25],\n",
              "       [0.25, 0.25, 0.25, 0.25, 1.  ]])"
            ]
          },
          "metadata": {
            "tags": []
          },
          "execution_count": 37
        }
      ]
    },
    {
      "cell_type": "code",
      "metadata": {
        "colab": {
          "base_uri": "https://localhost:8080/"
        },
        "id": "r3P05nl47z-d",
        "outputId": "b392793e-b65e-4982-92d0-0b9e6d876397"
      },
      "source": [
        "mus = np.ones(k)*4\n",
        "\n",
        "\n",
        "X = cp.Variable((k,k), symmetric=True)\n",
        "constraints = [X >= 0]\n",
        "# constraints += [X << 1]\n",
        "constraints += [cp.sum(cp.diag(X)) == 5]\n",
        "constraints += [X.T@theta >= mus]\n",
        "constraints += [cp.quad_form(theta, X) - mus@theta <= 0]\n",
        "\n",
        "prob=cp.Problem(cp.Minimize(cp.sum(X)), constraints)\n",
        "unconstrained_solutions = prob.solve()\n",
        "print('Constrained solution has value {}'.format(unconstrained_solutions))"
      ],
      "execution_count": null,
      "outputs": [
        {
          "output_type": "stream",
          "text": [
            "Constrained solution has value 9.999999999943086\n"
          ],
          "name": "stdout"
        }
      ]
    },
    {
      "cell_type": "code",
      "metadata": {
        "id": "xI3235kX7z-d"
      },
      "source": [
        ""
      ],
      "execution_count": null,
      "outputs": []
    }
  ]
}